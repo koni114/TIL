{
 "cells": [
  {
   "cell_type": "markdown",
   "id": "solved-amazon",
   "metadata": {},
   "source": [
    "### openpyxl library"
   ]
  },
  {
   "cell_type": "code",
   "execution_count": 1,
   "id": "tough-share",
   "metadata": {},
   "outputs": [],
   "source": [
    "import openpyxl\n",
    "# 엑셀 파일 열기\n",
    "wb = openpyxl.load_workbook('data/name.xlsx')\n",
    "\n",
    "# 현재 Active Sheet 얻기\n",
    "ws = wb.active\n",
    "for r in ws.rows:\n",
    "    name = r[0].value\n",
    "    if name[0] == \"F\""
   ]
  },
  {
   "cell_type": "code",
   "execution_count": null,
   "id": "bulgarian-maintenance",
   "metadata": {},
   "outputs": [],
   "source": []
  }
 ],
 "metadata": {
  "kernelspec": {
   "display_name": "Python 3",
   "language": "python",
   "name": "python3"
  },
  "language_info": {
   "codemirror_mode": {
    "name": "ipython",
    "version": 3
   },
   "file_extension": ".py",
   "mimetype": "text/x-python",
   "name": "python",
   "nbconvert_exporter": "python",
   "pygments_lexer": "ipython3",
   "version": "3.7.7"
  }
 },
 "nbformat": 4,
 "nbformat_minor": 5
}
