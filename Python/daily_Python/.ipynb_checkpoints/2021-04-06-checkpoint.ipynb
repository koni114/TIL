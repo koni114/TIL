{
 "cells": [
  {
   "cell_type": "markdown",
   "id": "pending-nerve",
   "metadata": {},
   "source": [
    "### Pandas 데이터 프레임을 dict type으로 변환하기\n",
    "- `to_dict()` 함수를 이용하여 Pandas DataFrame에서 dict로 변환\n",
    "- Pandas DataFrame를 List또는 Series로 값이있는 사전으로\n",
    "- Pandas DataFrame을 사전 목록으로\n",
    "- Pandas 데이터 프레임을 행별 사전으로\n",
    "- 하나의 열을 키(key)로 사용\n",
    "- `dict()` 및 `zip()` 함수를 사용하여 사전에 Pandas DataFrame"
   ]
  },
  {
   "cell_type": "code",
   "execution_count": 15,
   "id": "joint-romance",
   "metadata": {},
   "outputs": [
    {
     "name": "stdout",
     "output_type": "stream",
     "text": [
      "   Name  Age Course\n",
      "0   Jay   16    BBA\n",
      "1  Jack   19  BTech\n",
      "2  Mark   18    BSc \n",
      "\n",
      "{'Name': {0: 'Jay', 1: 'Jack', 2: 'Mark'}, 'Age': {0: 16, 1: 19, 2: 18}, 'Course': {0: 'BBA', 1: 'BTech', 2: 'BSc'}} \n",
      "\n",
      "--- list ---\n",
      "{'Name': ['Jay', 'Jack', 'Mark'], 'Age': [16, 19, 18], 'Course': ['BBA', 'BTech', 'BSc']} \n",
      "\n",
      "--- series ---\n",
      "{'Name': 0     Jay\n",
      "1    Jack\n",
      "2    Mark\n",
      "Name: Name, dtype: object, 'Age': 0    16\n",
      "1    19\n",
      "2    18\n",
      "Name: Age, dtype: int64, 'Course': 0      BBA\n",
      "1    BTech\n",
      "2      BSc\n",
      "Name: Course, dtype: object} \n",
      "\n",
      "--- index ---\n",
      "{0: {'Name': 'Jay', 'Age': 16, 'Course': 'BBA'}, 1: {'Name': 'Jack', 'Age': 19, 'Course': 'BTech'}, 2: {'Name': 'Mark', 'Age': 18, 'Course': 'BSc'}} \n",
      "\n"
     ]
    }
   ],
   "source": [
    "import pandas as pd\n",
    "df = pd.DataFrame([['Jay',16,'BBA'],\n",
    "                   ['Jack',19,'BTech'],\n",
    "                   ['Mark',18,'BSc']],\n",
    "                  columns = ['Name','Age','Course'])\n",
    "\n",
    "print(df, '\\n')\n",
    "\n",
    "# to_dict() default\n",
    "# 열 이름 --> 키, 레코드 --> 값, 인덱스 --> 각 값의 키로 사용\n",
    "d1 = df.to_dict()\n",
    "print(d1, '\\n')\n",
    "\n",
    "# ** to_dict의 parameter : list, records, series, index, split, dict\n",
    "print(\"--- list ---\")\n",
    "d_list = df.to_dict('list')\n",
    "print(d_list, '\\n')\n",
    "\n",
    "print(\"--- series ---\")\n",
    "d_series = df.to_dict('series')\n",
    "print(d_series, '\\n')\n",
    "\n",
    "print(\"--- index ---\")\n",
    "d_index = df.to_dict('index')\n",
    "print(d_index, '\\n')"
   ]
  },
  {
   "cell_type": "markdown",
   "id": "changing-hybrid",
   "metadata": {},
   "source": [
    "### 하나의 열을 키(key)로 사용"
   ]
  },
  {
   "cell_type": "code",
   "execution_count": 17,
   "id": "abandoned-doctrine",
   "metadata": {},
   "outputs": [
    {
     "name": "stdout",
     "output_type": "stream",
     "text": [
      "{'Jay': [16, 'BBA'], 'Jack': [19, 'BTech'], 'Mark': [18, 'BSc']}\n"
     ]
    }
   ],
   "source": [
    "d_names = df.set_index('Name').T.to_dict('list')\n",
    "print(d_names)"
   ]
  },
  {
   "cell_type": "markdown",
   "id": "accepting-coffee",
   "metadata": {},
   "source": [
    "### `dict()` 및 `zip()` 함수를 사용"
   ]
  },
  {
   "cell_type": "code",
   "execution_count": 18,
   "id": "sealed-thousand",
   "metadata": {},
   "outputs": [
    {
     "data": {
      "text/plain": [
       "{'Jay': [16, 'BBA'], 'Jack': [19, 'BTech'], 'Mark': [18, 'BSc']}"
      ]
     },
     "execution_count": 18,
     "metadata": {},
     "output_type": "execute_result"
    }
   ],
   "source": [
    "dict([(i, [a,b]) for i,a,b in zip(df['Name'], df['Age'], df['Course'])])"
   ]
  },
  {
   "cell_type": "markdown",
   "id": "surprising-stylus",
   "metadata": {},
   "source": [
    "## 주석을 이용한 문서화\n",
    "- 항상 주석을 통해 해당 모듈과 함수에 대한 내용을 잘 전달하는 것이 매우 중요하다고 생각함\n",
    "- 문서화 스타일은 크게 2가지만 알아보자\n",
    "  - Google style\n",
    "  - numpy style\n",
    "- 특정한 위치에 있는 블록 주석은 요소의 __doc__ 속성이 되어 IntelliSense나 Sphinx 등이 자동으로 설명을 붙일 수 있도록 해줌\n",
    "- 개발자가 아닌 사용자를 위한 주석은 별도로 docstring이라고 부르기도 함\n",
    "- Sphinx가 참조하는 구글 스타일의 주석과, Numpy 스타일의 주석을 알아보자"
   ]
  },
  {
   "cell_type": "markdown",
   "id": "chubby-breach",
   "metadata": {},
   "source": [
    "### Docstring\n",
    "- 지능형 코드 완성(IntelliSense) 기능을 제공하는 편집기는 이 __doc__를 자동으로 읽어 사용자에게 팝업시켜 보여줌\n",
    "- `__doc__`의 내용으로 인식하는 주석의 특별한 위치들이 있음"
   ]
  },
  {
   "cell_type": "code",
   "execution_count": 19,
   "id": "engaging-graduate",
   "metadata": {},
   "outputs": [
    {
     "name": "stdout",
     "output_type": "stream",
     "text": [
      "이것은 함수입니다.\n",
      "    \n",
      "    Args:\n",
      "        a: 매개변수로 뭔가를 받습니다.\n",
      "    \n",
      "    Returns:\n",
      "        뭔가를 반환합니다.\n",
      "    \n"
     ]
    }
   ],
   "source": [
    "def function(a):\n",
    "    \"\"\"이것은 함수입니다.\n",
    "    \n",
    "    Args:\n",
    "        a: 매개변수로 뭔가를 받습니다.\n",
    "    \n",
    "    Returns:\n",
    "        뭔가를 반환합니다.\n",
    "    \"\"\"\n",
    "    return a\n",
    "\n",
    "if __name__ == \"__main__\":\n",
    "    print(function.__doc__)"
   ]
  },
  {
   "cell_type": "markdown",
   "id": "optional-broadcast",
   "metadata": {},
   "source": [
    "### 모듈과 패키지"
   ]
  },
  {
   "cell_type": "code",
   "execution_count": 21,
   "id": "linear-sigma",
   "metadata": {},
   "outputs": [],
   "source": [
    "\"\"\"모듈의 간략한 설명\n",
    "\n",
    "모듈\n",
    "===\n",
    "\n",
    "모듈의 경우 문서의 최상단에 있는 주석을 모듈의 문서화 문자열(docstring)로 인식\n",
    "\n",
    "패키지\n",
    "====\n",
    "\n",
    "이 문서화 문자열이 패키지의 `__init__.py`에 있다면 파이썬은 \n",
    "이것을 패키지의 문서화 문자열로 인식함\n",
    "\"\"\"\n",
    "import os\n",
    "import sys"
   ]
  },
  {
   "cell_type": "markdown",
   "id": "posted-found",
   "metadata": {},
   "source": [
    "### 구글 스타일"
   ]
  },
  {
   "cell_type": "code",
   "execution_count": 22,
   "id": "champion-shuttle",
   "metadata": {},
   "outputs": [],
   "source": [
    "\"\"\"구글 스타일 문서화 문자열.\n",
    "\n",
    "구글 스타일\n",
    "===========\n",
    "\n",
    "제목을 정할 때는 기존과 같습니다. `==`로 제목을 `--`로 소제목을\n",
    "표현합니다. `참고해야 할 하이퍼링크`_ 가 있다면 아래에 url 정의를\n",
    "할 수 있습니다.\n",
    "\n",
    ".. _참고해야 할 하이퍼링크:\n",
    "    https://soma0sd.tistory.com/\n",
    "\n",
    "Attributes:\n",
    "    module_variable_1(int): 모듈 수준의 변수가 있는 경우 모듈의\n",
    "      문서화 문자열에 `Attributes:` 섹션을 만들어서 표현합니다.\n",
    "\n",
    "Example:\n",
    "    예시를 기록합니다.\n",
    "\n",
    "Todo:\n",
    "    * 앞으로 할 것의 목록\n",
    "    * `Todo`는 모듈이나 패키지, 함수, 클래스 등에 자유롭게\n",
    "        사용할 수 있습니다.\n",
    "    * 사용자 입장에서 서술하는 것이 좋습니다.\n",
    "\"\"\"\n",
    "\n",
    "def function(arg1: int, arg2: str) -> bool:\n",
    "    \"\"\"함수의 문서화 문자열.\n",
    "\n",
    "    Args:\n",
    "        arg1 (int): 사실 함수에 이미 매개변수 형태가 있다면\n",
    "            굳이 괄호로 표시해 줄 필요는 없습니다.\n",
    "        arg2: 들여쓰기와 콜론(`:`)이 매개변수와 설명을\n",
    "            구분합니다.\n",
    "\n",
    "    Returns:\n",
    "        bool: 이 경우에도 형태가 소스코드에 이미 있다면\n",
    "            굳이 반복해서 쓸 필요는 없습니다.\n",
    "\n",
    "    Raises:\n",
    "        AttributeError: 예외 설명이 필요한 경우.\n",
    "\n",
    "    Yields:\n",
    "        출력값이 무언가를 나열하는 경우.\n",
    "\n",
    "    Note:\n",
    "        함께 알아두어야 할 사항이 있는 경우.\n",
    "\n",
    "    `Args`나 `Returns` 등 각 섹션 사이에는 빈 줄이 하나 필요합니다.\n",
    "    \"\"\"\n",
    "    return True"
   ]
  },
  {
   "cell_type": "markdown",
   "id": "legendary-greek",
   "metadata": {},
   "source": [
    "### 넘파이 스타일"
   ]
  },
  {
   "cell_type": "code",
   "execution_count": 23,
   "id": "european-transcription",
   "metadata": {},
   "outputs": [],
   "source": [
    "\"\"\"넘파이 스타일 문서화 문자열.\n",
    "\n",
    "Numpy 스타일\n",
    "=============\n",
    "\n",
    "제목을 정할 때는 기존과 같습니다. `==`로 제목을 표현합니다.\n",
    "`참고해야 할 하이퍼링크`_ 가 있다면 아래에 url 정의를\n",
    "할 수 있습니다.\n",
    "\n",
    ".. _참고해야 할 하이퍼링크:\n",
    "    https://soma0sd.tistory.com/\n",
    "\n",
    "Attributes\n",
    "-----------\n",
    "module_variable_1(int): 모듈 수준의 변수가 있는 경우 모듈의\n",
    "  문서화 문자열에 `Attributes:` 섹션을 만들어서 표현합니다.\n",
    "\n",
    "Todo\n",
    "-----\n",
    "* 앞으로 할 것의 목록\n",
    "* `Todo`는 모듈이나 패키지, 함수, 클래스 등에 자유롭게\n",
    "    사용할 수 있습니다.\n",
    "* 사용자 입장에서 서술하는 것이 좋습니다.\n",
    "\"\"\"\n",
    "\n",
    "def function(arg1: int, arg2: str) -> bool:\n",
    "    \"\"\"함수의 문서화 문자열.\n",
    "\n",
    "    Parameters\n",
    "    ----------\n",
    "    arg1 (int)\n",
    "        사실 함수에 이미 매개변수 형태가 있다면\n",
    "        굳이 괄호로 표시해 줄 필요는 없습니다.\n",
    "    arg2\n",
    "        줄바꿈과 들여쓰기로 섹션을 구분합니다.\n",
    "\n",
    "    Returns\n",
    "    --------\n",
    "    bool\n",
    "        이 경우에도 형태가 소스코드에 이미 있다면\n",
    "        굳이 반복해서 쓸 필요는 없습니다.\n",
    "\n",
    "    Raises\n",
    "    -------\n",
    "    AttributeError\n",
    "        예외 설명이 필요한 경우.\n",
    "\n",
    "    Yields\n",
    "    -------\n",
    "    출력값이 무언가를 나열하는 경우.\n",
    "\n",
    "    Note\n",
    "    ----\n",
    "    함께 알아두어야 할 사항이 있는 경우.\n",
    "\n",
    "    `Args`나 `Returns` 등 각 섹션 사이에는 빈 줄이 하나 필요합니다.\n",
    "    \"\"\"\n",
    "    return True"
   ]
  },
  {
   "cell_type": "code",
   "execution_count": null,
   "id": "considerable-international",
   "metadata": {},
   "outputs": [],
   "source": []
  }
 ],
 "metadata": {
  "kernelspec": {
   "display_name": "Python 3",
   "language": "python",
   "name": "python3"
  },
  "language_info": {
   "codemirror_mode": {
    "name": "ipython",
    "version": 3
   },
   "file_extension": ".py",
   "mimetype": "text/x-python",
   "name": "python",
   "nbconvert_exporter": "python",
   "pygments_lexer": "ipython3",
   "version": "3.7.7"
  }
 },
 "nbformat": 4,
 "nbformat_minor": 5
}
