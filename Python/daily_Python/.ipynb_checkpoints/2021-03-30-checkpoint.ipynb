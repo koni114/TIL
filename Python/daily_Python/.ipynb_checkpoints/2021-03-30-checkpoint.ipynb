{
 "cells": [
  {
   "cell_type": "markdown",
   "id": "wanted-pennsylvania",
   "metadata": {},
   "source": [
    "## 특정 데이터 포맷에서 Json으로 변경하는 방법\n",
    "- JSON : JavaScript Object Notation\n",
    "- JavaScript의 객체 형식을 기반으로하며 구조화된 데이터를 표현하는 인코딩 기술\n",
    "- 서버와 웹 application 간의 데이터 공유에 많이 사용"
   ]
  },
  {
   "cell_type": "markdown",
   "id": "extreme-madison",
   "metadata": {},
   "source": [
    "### pandas DataFrame -> JSON"
   ]
  },
  {
   "cell_type": "code",
   "execution_count": 1,
   "id": "threaded-serum",
   "metadata": {},
   "outputs": [],
   "source": [
    "import pandas as pd\n",
    "df = pd.DataFrame([['Jay', 16, 'BBA'],\n",
    "                   ['Jack', 19, 'BTech'],\n",
    "                   ['Mark', 18, 'BSc']],\n",
    "                    columns = ['Name', 'Age', 'Course'])"
   ]
  },
  {
   "cell_type": "code",
   "execution_count": 2,
   "id": "stone-heather",
   "metadata": {
    "scrolled": true
   },
   "outputs": [
    {
     "name": "stdout",
     "output_type": "stream",
     "text": [
      "   Name  Age Course\n",
      "0   Jay   16    BBA\n",
      "1  Jack   19  BTech\n",
      "2  Mark   18    BSc\n"
     ]
    }
   ],
   "source": [
    "print(df)"
   ]
  },
  {
   "cell_type": "markdown",
   "id": "formed-monaco",
   "metadata": {},
   "source": [
    "- Pandas DataFrame에는 DataFrame을 JSON 문자열로 변환하거나 외부 JSON 파일로 저장하는 `dataframe.to_json()`이 있음\n",
    "- Json의 형식은 orient 매개 변수의 값의 따라 다르지만 'records', 'index', 'split', 'table', 'values'로 정할 수 있음"
   ]
  },
  {
   "cell_type": "code",
   "execution_count": 9,
   "id": "temporal-baking",
   "metadata": {},
   "outputs": [
    {
     "name": "stdout",
     "output_type": "stream",
     "text": [
      "-- columns format --\n",
      "{\"Name\":{\"0\":\"Jay\",\"1\":\"Jack\",\"2\":\"Mark\"},\"Age\":{\"0\":16,\"1\":19,\"2\":18},\"Course\":{\"0\":\"BBA\",\"1\":\"BTech\",\"2\":\"BSc\"}}\n",
      "-- index format --\n",
      "{\"0\":{\"Name\":\"Jay\",\"Age\":16,\"Course\":\"BBA\"},\"1\":{\"Name\":\"Jack\",\"Age\":19,\"Course\":\"BTech\"},\"2\":{\"Name\":\"Mark\",\"Age\":18,\"Course\":\"BSc\"}}\n",
      "-- split format --\n",
      "{\"columns\":[\"Name\",\"Age\",\"Course\"],\"index\":[0,1,2],\"data\":[[\"Jay\",16,\"BBA\"],[\"Jack\",19,\"BTech\"],[\"Mark\",18,\"BSc\"]]}\n",
      "-- table format--\n",
      "{\"schema\":{\"fields\":[{\"name\":\"index\",\"type\":\"integer\"},{\"name\":\"Name\",\"type\":\"string\"},{\"name\":\"Age\",\"type\":\"integer\"},{\"name\":\"Course\",\"type\":\"string\"}],\"primaryKey\":[\"index\"],\"pandas_version\":\"0.20.0\"},\"data\":[{\"index\":0,\"Name\":\"Jay\",\"Age\":16,\"Course\":\"BBA\"},{\"index\":1,\"Name\":\"Jack\",\"Age\":19,\"Course\":\"BTech\"},{\"index\":2,\"Name\":\"Mark\",\"Age\":18,\"Course\":\"BSc\"}]}\n"
     ]
    }
   ],
   "source": [
    "# orient = 'columns'\n",
    "js = df.to_json(orient = 'columns')\n",
    "\n",
    "print(\"-- columns format --\")\n",
    "print(js)\n",
    "\n",
    "# orient = 'index'\n",
    "js = df.to_json(orient = 'index')\n",
    "print(\"-- index format --\")\n",
    "print(js)\n",
    "\n",
    "# orient = 'split'\n",
    "js = df.to_json(orient = 'split')\n",
    "print(\"-- split format --\")\n",
    "print(js)\n",
    "\n",
    "# orient = 'table'\n",
    "js = df.to_json(orient = 'table')\n",
    "print(\"-- table format--\")\n",
    "print(js)"
   ]
  },
  {
   "cell_type": "markdown",
   "id": "fifteen-george",
   "metadata": {},
   "source": [
    "- JSON File 외부로 내보내기"
   ]
  },
  {
   "cell_type": "code",
   "execution_count": null,
   "id": "owned-optimization",
   "metadata": {},
   "outputs": [],
   "source": [
    "df.to_json(\"path/example.json\", orient = 'split')"
   ]
  },
  {
   "cell_type": "markdown",
   "id": "packed-monaco",
   "metadata": {},
   "source": [
    "### dictionary <-> JSON"
   ]
  },
  {
   "cell_type": "code",
   "execution_count": 12,
   "id": "drawn-boxing",
   "metadata": {},
   "outputs": [
    {
     "name": "stdout",
     "output_type": "stream",
     "text": [
      "{'name': 'song', 'age': 10}\n",
      "<class 'dict'>\n",
      "{\"name\": \"song\", \"age\": 10}\n",
      "<class 'str'>\n"
     ]
    }
   ],
   "source": [
    "# dict -> JSON\n",
    "import json\n",
    "dict1 = {'name':'song', 'age':10}\n",
    "dictToJson = json.dumps(dict1)\n",
    "\n",
    "print(dict1)\n",
    "print(type(dict1))\n",
    "\n",
    "print(dictToJson)\n",
    "print(type(dictToJson))\n",
    "\n",
    "# Json으로 변환 후에 key-value 형식으로는 접근이 불가"
   ]
  },
  {
   "cell_type": "code",
   "execution_count": 17,
   "id": "awful-enterprise",
   "metadata": {},
   "outputs": [
    {
     "name": "stdout",
     "output_type": "stream",
     "text": [
      "{'name': 'song', 'age': 10}\n"
     ]
    }
   ],
   "source": [
    "# JSON -> dict\n",
    "dict2 = json.loads(dictToJson)\n",
    "print(dict2)"
   ]
  },
  {
   "cell_type": "markdown",
   "id": "satellite-sapphire",
   "metadata": {},
   "source": [
    "- numpy  -> JSON은 지원하지 않음(데이터 직렬화 안됨)\n",
    "- Series -> JSON은 지원하지 않음(데이터 직렬화 안됨) "
   ]
  },
  {
   "cell_type": "markdown",
   "id": "appropriate-montgomery",
   "metadata": {},
   "source": [
    "### 동적 변수 생성하기\n",
    "-`globals()` 함수를 통한 전역 동적변수 생성  \n",
    "-`locals()` 함수를 통한 지역 전역변수 생성  "
   ]
  },
  {
   "cell_type": "code",
   "execution_count": 27,
   "id": "dated-safety",
   "metadata": {},
   "outputs": [
    {
     "name": "stdout",
     "output_type": "stream",
     "text": [
      "Helloworld\n",
      "hello!\n"
     ]
    }
   ],
   "source": [
    "name = 'variable'\n",
    "globals()[name] = \"Helloworld\"\n",
    "print(variable)\n",
    "\n",
    "def test():\n",
    "    name = 'var1'\n",
    "    locals()[name] = \"hello!\"\n",
    "    print(locals()[name])\n",
    "    pass \n",
    "\n",
    "test()"
   ]
  },
  {
   "cell_type": "markdown",
   "id": "incredible-victory",
   "metadata": {},
   "source": [
    "- `setattr` 함수를 통해서도 동적 변수 생성이 가능"
   ]
  },
  {
   "cell_type": "code",
   "execution_count": null,
   "id": "stunning-bidder",
   "metadata": {},
   "outputs": [],
   "source": [
    "import sys\n",
    "mod = sys.modules[__name__]\n",
    "name = 'var1'\n",
    "    setattr(mod, name, 10)"
   ]
  }
 ],
 "metadata": {
  "kernelspec": {
   "display_name": "Python 3",
   "language": "python",
   "name": "python3"
  },
  "language_info": {
   "codemirror_mode": {
    "name": "ipython",
    "version": 3
   },
   "file_extension": ".py",
   "mimetype": "text/x-python",
   "name": "python",
   "nbconvert_exporter": "python",
   "pygments_lexer": "ipython3",
   "version": "3.7.7"
  }
 },
 "nbformat": 4,
 "nbformat_minor": 5
}
