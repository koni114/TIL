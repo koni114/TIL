{
 "cells": [
  {
   "cell_type": "code",
   "execution_count": 16,
   "metadata": {},
   "outputs": [],
   "source": [
    "import redis_lock\n",
    "import redis\n",
    "import time\n",
    "\n",
    "client = redis.StrictRedis()"
   ]
  },
  {
   "cell_type": "code",
   "execution_count": 17,
   "metadata": {},
   "outputs": [],
   "source": [
    "key_list = ['my_lock1', 'my_lock2', 'my_lock3']"
   ]
  },
  {
   "cell_type": "code",
   "execution_count": null,
   "metadata": {},
   "outputs": [],
   "source": [
    "for key in key_list: \n",
    "    lock_obj = redis_lock.Lock(client, key)\n",
    "    print(f\"lock_obj.locked -> {lock_obj.locked()}\")\n",
    "    if not lock_obj.locked(): \n",
    "        with lock_obj:\n",
    "            # 임계구역 코드 실행\n",
    "            print(f\"락을 획득했습니다. -> {key}\")\n",
    "            time.sleep(20)\n",
    "            \n",
    "            print(\"작업 수행이 완료되었습니다.\")\n",
    "    else:\n",
    "        print(f\"이미 락이 점유중입니다. key -> {key}\")"
   ]
  },
  {
   "cell_type": "code",
   "execution_count": null,
   "metadata": {},
   "outputs": [],
   "source": []
  }
 ],
 "metadata": {
  "kernelspec": {
   "display_name": "orchestration",
   "language": "python",
   "name": "python3"
  },
  "language_info": {
   "codemirror_mode": {
    "name": "ipython",
    "version": 3
   },
   "file_extension": ".py",
   "mimetype": "text/x-python",
   "name": "python",
   "nbconvert_exporter": "python",
   "pygments_lexer": "ipython3",
   "version": "3.9.19"
  }
 },
 "nbformat": 4,
 "nbformat_minor": 2
}
