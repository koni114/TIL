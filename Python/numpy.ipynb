{
  "nbformat": 4,
  "nbformat_minor": 0,
  "metadata": {
    "colab": {
      "name": "Untitled1.ipynb",
      "provenance": [],
      "collapsed_sections": []
    },
    "kernelspec": {
      "name": "python3",
      "display_name": "Python 3"
    }
  },
  "cells": [
    {
      "cell_type": "markdown",
      "metadata": {
        "id": "1vbnYcr9vncD"
      },
      "source": [
        "# numpy 유용 함수들 정리\r\n",
        "- 자세하게는 정리하지 않을 것\r\n"
      ]
    },
    {
      "cell_type": "markdown",
      "metadata": {
        "id": "nuUD2XtVvwXA"
      },
      "source": [
        "- `np.array` 배열에 값 추가하기 --> `np.append(arr, np.array([1,2]))`"
      ]
    },
    {
      "cell_type": "code",
      "metadata": {
        "colab": {
          "base_uri": "https://localhost:8080/"
        },
        "id": "u93uG9cKv4VN",
        "outputId": "4d9971ae-e9ff-4f12-d14f-af39846fe328"
      },
      "source": [
        "import numpy as np\r\n",
        "n = np.array([1,2,3])\r\n",
        "print(n)\r\n",
        "n2 = np.append(n, np.array([1,2]))\r\n",
        "print(n2)"
      ],
      "execution_count": null,
      "outputs": [
        {
          "output_type": "stream",
          "text": [
            "[1 2 3]\n",
            "[1 2 3 1 2]\n"
          ],
          "name": "stdout"
        }
      ]
    },
    {
      "cell_type": "markdown",
      "metadata": {
        "id": "8m6y07L6wsRH"
      },
      "source": [
        "- `np.zeros` 함수 --> 0 값이 채워진 배열 생성"
      ]
    },
    {
      "cell_type": "code",
      "metadata": {
        "colab": {
          "base_uri": "https://localhost:8080/"
        },
        "id": "wcr3ztavw0yJ",
        "outputId": "49d09edd-fec3-4907-e385-a1f0aa672288"
      },
      "source": [
        "npz = np.zeros((2,3))\r\n",
        "print(npz)"
      ],
      "execution_count": null,
      "outputs": [
        {
          "output_type": "stream",
          "text": [
            "[[0. 0. 0.]\n",
            " [0. 0. 0.]]\n"
          ],
          "name": "stdout"
        }
      ]
    },
    {
      "cell_type": "markdown",
      "metadata": {
        "id": "jPj7pYa3w376"
      },
      "source": [
        "- 각 차원을 축(axis) 라고 함\r\n",
        "- 축의 개수를 랭크(rank) 라고 함  \r\n",
        "  예를 들어 (3x4) 배열은 랭크가 2인 배열. 첫 번째 축의 길이는 3, 두 번째 축의 길이는 4\r\n",
        "- 배열의 축 길이를 배열의 크기(shape) 라고 함. 위 행렬의 크기는 (3, 4)"
      ]
    },
    {
      "cell_type": "markdown",
      "metadata": {
        "id": "IRwcGAwFyAvm"
      },
      "source": [
        "- `arr.shape` : arr 배열의 크기(shape) \r\n",
        "- `arr.ndim`  : arr 배열의 rank 값\r\n",
        "- `arr.size`  : arr 배열을 1차원으로 변경하였을 때의 length "
      ]
    },
    {
      "cell_type": "code",
      "metadata": {
        "colab": {
          "base_uri": "https://localhost:8080/"
        },
        "id": "kvgsex7wxwgP",
        "outputId": "3919dbf7-b991-46e4-e82c-5b15906ae7fb"
      },
      "source": [
        "arr = np.zeros((3, 4))\r\n",
        "print(arr.shape)\r\n",
        "print(arr.ndim)\r\n",
        "print(arr.size)\r\n"
      ],
      "execution_count": null,
      "outputs": [
        {
          "output_type": "stream",
          "text": [
            "(3, 4)\n",
            "2\n",
            "12\n"
          ],
          "name": "stdout"
        }
      ]
    },
    {
      "cell_type": "markdown",
      "metadata": {
        "id": "S1PtiVG_yVD2"
      },
      "source": [
        "## N-차원 배열 만들기\r\n",
        "- np.function의 차원에 (a, b, c) 형태로 입력하면 N-차원 배열로 변경됨\r\n",
        "- <b>넘파이 배열의 타입은 ndarray !</b>"
      ]
    },
    {
      "cell_type": "code",
      "metadata": {
        "colab": {
          "base_uri": "https://localhost:8080/"
        },
        "id": "DODHtcgCymWB",
        "outputId": "dddaf1c7-7e38-4c61-9764-3819a7c43a37"
      },
      "source": [
        "type(np.zeros((3,4)))"
      ],
      "execution_count": null,
      "outputs": [
        {
          "output_type": "execute_result",
          "data": {
            "text/plain": [
              "numpy.ndarray"
            ]
          },
          "metadata": {
            "tags": []
          },
          "execution_count": 9
        }
      ]
    },
    {
      "cell_type": "markdown",
      "metadata": {
        "id": "e4bjq72IyraK"
      },
      "source": [
        "`np.ones` : 1로 채워진 넘파이 배열 생성"
      ]
    },
    {
      "cell_type": "code",
      "metadata": {
        "colab": {
          "base_uri": "https://localhost:8080/"
        },
        "id": "cZFUTgxvyxDd",
        "outputId": "a2d756fa-8103-40bc-f6db-db9e1c7cb263"
      },
      "source": [
        "np_o = np.ones((3,4))\r\n",
        "print(np_o)"
      ],
      "execution_count": null,
      "outputs": [
        {
          "output_type": "stream",
          "text": [
            "[[1. 1. 1. 1.]\n",
            " [1. 1. 1. 1.]\n",
            " [1. 1. 1. 1.]]\n"
          ],
          "name": "stdout"
        }
      ]
    },
    {
      "cell_type": "markdown",
      "metadata": {
        "id": "mzieDYVzy1yi"
      },
      "source": [
        "`np.full((dim), value)` : 지정된 값(value)으로 넘파이 배열 생성"
      ]
    },
    {
      "cell_type": "code",
      "metadata": {
        "colab": {
          "base_uri": "https://localhost:8080/"
        },
        "id": "IHh8GhTxy_lb",
        "outputId": "4168048f-b901-44be-b572-55adf858a3fb"
      },
      "source": [
        "np.full((3,4), np.pi)"
      ],
      "execution_count": null,
      "outputs": [
        {
          "output_type": "execute_result",
          "data": {
            "text/plain": [
              "array([[3.14159265, 3.14159265, 3.14159265, 3.14159265],\n",
              "       [3.14159265, 3.14159265, 3.14159265, 3.14159265],\n",
              "       [3.14159265, 3.14159265, 3.14159265, 3.14159265]])"
            ]
          },
          "metadata": {
            "tags": []
          },
          "execution_count": 11
        }
      ]
    },
    {
      "cell_type": "markdown",
      "metadata": {
        "id": "nCmhO6y8zBn0"
      },
      "source": [
        "`np.empty` : 초기화 되지 않은  넘파이 배열 생성\r\n",
        "메모리의 상태에 따라 다름\r\n",
        "\r\n",
        "\r\n"
      ]
    },
    {
      "cell_type": "code",
      "metadata": {
        "id": "0Zjuo5EqzKKk"
      },
      "source": [
        "np.empty((2,3,4))"
      ],
      "execution_count": null,
      "outputs": []
    },
    {
      "cell_type": "markdown",
      "metadata": {
        "id": "lqNZWaD0zLq9"
      },
      "source": [
        "`np.array` : 넘파이 배열 선언"
      ]
    },
    {
      "cell_type": "code",
      "metadata": {
        "colab": {
          "base_uri": "https://localhost:8080/"
        },
        "id": "J9_1pGd1zg5q",
        "outputId": "43afc588-c0a8-4f6e-e267-28f8c11967ed"
      },
      "source": [
        "np.array([[1,2,3,4], [2,3,4,5]])"
      ],
      "execution_count": null,
      "outputs": [
        {
          "output_type": "execute_result",
          "data": {
            "text/plain": [
              "array([[1, 2, 3, 4],\n",
              "       [2, 3, 4, 5]])"
            ]
          },
          "metadata": {
            "tags": []
          },
          "execution_count": 15
        }
      ]
    },
    {
      "cell_type": "markdown",
      "metadata": {
        "id": "oJAZFkYwzrSL"
      },
      "source": [
        "`np.arange(1, 10)` : 파이썬의 range와 비슷한 함수. 넘파이 배열을 반환 "
      ]
    },
    {
      "cell_type": "code",
      "metadata": {
        "colab": {
          "base_uri": "https://localhost:8080/"
        },
        "id": "grv3JtLIz2OM",
        "outputId": "5531469d-5e56-498f-9551-e0419bd497d1"
      },
      "source": [
        "np.arange(1, 10)\r\n",
        "np.arange(1.0, 5.5, 0.5)\r\n",
        "# 세번째 인자는 간격을 나타내는데, 이 간격은 부동소수점일 경우 작은 오차에 따라서 값이 달라짐\r\n",
        "print(np.arange(0, 5/3, 0.33333))\r\n",
        "print(np.arange(0, 5/3, 0.33334))"
      ],
      "execution_count": null,
      "outputs": [
        {
          "output_type": "stream",
          "text": [
            "[0.      0.33333 0.66666 0.99999 1.33332 1.66665]\n",
            "[0.      0.33334 0.66668 1.00002 1.33336]\n"
          ],
          "name": "stdout"
        }
      ]
    },
    {
      "cell_type": "markdown",
      "metadata": {
        "id": "K1mClbsMz4Qn"
      },
      "source": [
        "`np.linspace` : 위와 같은 이유로 `linspace` 함수를 사용하는 것이 좋음  \r\n",
        "세 번째 인수는 range의 개수를 나타냄"
      ]
    },
    {
      "cell_type": "code",
      "metadata": {
        "colab": {
          "base_uri": "https://localhost:8080/"
        },
        "id": "kFG2HRmH0gik",
        "outputId": "f90e545d-1db3-44a8-fc7a-84824aeaa922"
      },
      "source": [
        "np.linspace(0, 5/3, 6)"
      ],
      "execution_count": null,
      "outputs": [
        {
          "output_type": "execute_result",
          "data": {
            "text/plain": [
              "array([0.        , 0.33333333, 0.66666667, 1.        , 1.33333333,\n",
              "       1.66666667])"
            ]
          },
          "metadata": {
            "tags": []
          },
          "execution_count": 22
        }
      ]
    },
    {
      "cell_type": "markdown",
      "metadata": {
        "id": "Sk6FbZyo0jVx"
      },
      "source": [
        "- `np.rand` : 0과 1사이의 난수 생성\r\n",
        "- `np.randn` : 평균이 0이고 분산이 1인 정규 분포에서의 난수 생성"
      ]
    },
    {
      "cell_type": "code",
      "metadata": {
        "colab": {
          "base_uri": "https://localhost:8080/"
        },
        "id": "dFSLXpU709IM",
        "outputId": "315b9ce8-5b80-478f-8f72-d165e51e0b97"
      },
      "source": [
        "print(np.random.rand(3,4))\r\n",
        "print(np.random.randn(3,4))"
      ],
      "execution_count": null,
      "outputs": [
        {
          "output_type": "stream",
          "text": [
            "[[0.72883749 0.44048462 0.9900596  0.35320919]\n",
            " [0.45184204 0.05066173 0.90935254 0.41818992]\n",
            " [0.22304906 0.23459254 0.02928947 0.60102282]]\n",
            "[[ 0.30721632 -1.44608029  0.9153016   0.68114508]\n",
            " [-1.51147288 -0.03282755  0.87838202  0.00547636]\n",
            " [-0.47132269  0.30320932 -0.18523779  0.9096439 ]]\n"
          ],
          "name": "stdout"
        }
      ]
    },
    {
      "cell_type": "markdown",
      "metadata": {
        "id": "ZVA9w0vB1Bza"
      },
      "source": [
        "- `np.fromfunction(myfunction, (shape))` : fromfunction을 이용해서 함수를 초기화 할 수 있음  \r\n",
        "- 다음 예제를 잘 이해해보자\r\n",
        "- 중요한 점은 해당 원소가 여러번 호출되는 것이 아니라 딱 한번 호출되는 것 "
      ]
    },
    {
      "cell_type": "code",
      "metadata": {
        "colab": {
          "base_uri": "https://localhost:8080/"
        },
        "id": "iniJjCTC2mv1",
        "outputId": "54d5fc2b-f46c-495b-b274-ddc26248bc78"
      },
      "source": [
        "def myfunction(z,y,x):\r\n",
        "  return x * y + z\r\n",
        "np.fromfunction(myfunction, (3,2,10))"
      ],
      "execution_count": null,
      "outputs": [
        {
          "output_type": "execute_result",
          "data": {
            "text/plain": [
              "array([[[ 0.,  0.,  0.,  0.,  0.,  0.,  0.,  0.,  0.,  0.],\n",
              "        [ 0.,  1.,  2.,  3.,  4.,  5.,  6.,  7.,  8.,  9.]],\n",
              "\n",
              "       [[ 1.,  1.,  1.,  1.,  1.,  1.,  1.,  1.,  1.,  1.],\n",
              "        [ 1.,  2.,  3.,  4.,  5.,  6.,  7.,  8.,  9., 10.]],\n",
              "\n",
              "       [[ 2.,  2.,  2.,  2.,  2.,  2.,  2.,  2.,  2.,  2.],\n",
              "        [ 2.,  3.,  4.,  5.,  6.,  7.,  8.,  9., 10., 11.]]])"
            ]
          },
          "metadata": {
            "tags": []
          },
          "execution_count": 25
        }
      ]
    },
    {
      "cell_type": "markdown",
      "metadata": {
        "id": "sbwk_LNz21QY"
      },
      "source": [
        "## 배열 속 데이터\r\n",
        "- 넘파이의 ndarray는 모든 원소가 동일한 타입을 가지고 있기 때문에 효율적\r\n",
        "- `dtype` 속성으로 데이터 타입을 확인 가능 "
      ]
    },
    {
      "cell_type": "code",
      "metadata": {
        "colab": {
          "base_uri": "https://localhost:8080/"
        },
        "id": "nvFnLw843eCy",
        "outputId": "0f2e8bc9-8103-457f-fda8-1c8ff9a21e15"
      },
      "source": [
        "ad = np.array([1,2,2,3,5])\r\n",
        "ad.dtype\r\n",
        "\r\n",
        "c = np.arange(1.0, 10.0, 2)\r\n",
        "print(c.dtype, c)\r\n",
        "\r\n",
        "npf = np.array([1,2,3,4], dtype = 'float64')\r\n",
        "print(npf)"
      ],
      "execution_count": null,
      "outputs": [
        {
          "output_type": "stream",
          "text": [
            "float64 [1. 3. 5. 7. 9.]\n",
            "[1. 2. 3. 4.]\n"
          ],
          "name": "stdout"
        }
      ]
    },
    {
      "cell_type": "markdown",
      "metadata": {
        "id": "0xwK4jtL3iC3"
      },
      "source": [
        "`itemsize` 속성은 배열의 바이트 크기를 반환"
      ]
    },
    {
      "cell_type": "code",
      "metadata": {
        "colab": {
          "base_uri": "https://localhost:8080/"
        },
        "id": "KpvSTN0h44Ou",
        "outputId": "db919cad-6cd7-4b9a-9039-71e8f3c6a700"
      },
      "source": [
        "a = np.arange(1, 100)\r\n",
        "a.itemsize"
      ],
      "execution_count": null,
      "outputs": [
        {
          "output_type": "execute_result",
          "data": {
            "text/plain": [
              "8"
            ]
          },
          "metadata": {
            "tags": []
          },
          "execution_count": 35
        }
      ]
    },
    {
      "cell_type": "markdown",
      "metadata": {
        "id": "goLmEPCm47iJ"
      },
      "source": [
        "## 배열 크기 변경"
      ]
    },
    {
      "cell_type": "markdown",
      "metadata": {
        "id": "WKhvgSm95IMF"
      },
      "source": [
        "`ndarray`의 `shape` 속성을 지정하면 크기 변경이 가능"
      ]
    },
    {
      "cell_type": "code",
      "metadata": {
        "colab": {
          "base_uri": "https://localhost:8080/"
        },
        "id": "a1xgYxj75Owx",
        "outputId": "69248814-9493-4b28-fed3-474a1df8a261"
      },
      "source": [
        "g = np.arange(24)\r\n",
        "g.shape = (3, 8)\r\n",
        "print(g)"
      ],
      "execution_count": null,
      "outputs": [
        {
          "output_type": "stream",
          "text": [
            "[[ 0  1  2  3  4  5  6  7]\n",
            " [ 8  9 10 11 12 13 14 15]\n",
            " [16 17 18 19 20 21 22 23]]\n"
          ],
          "name": "stdout"
        }
      ]
    },
    {
      "cell_type": "markdown",
      "metadata": {
        "id": "mt4RCNgW5UJA"
      },
      "source": [
        "`reshape` 함수는 넘파이 배열의 차원을 변경하여 해당 배열을 반환"
      ]
    },
    {
      "cell_type": "code",
      "metadata": {
        "colab": {
          "base_uri": "https://localhost:8080/"
        },
        "id": "tiTxdXJs5kYa",
        "outputId": "c7ee0989-8695-4363-e83d-1cc863867260"
      },
      "source": [
        "g = np.arange(24)\r\n",
        "g2 = g.reshape(4, 6)\r\n",
        "\r\n",
        "print(\"g:\", g)\r\n",
        "print(\"g2\", g2)"
      ],
      "execution_count": null,
      "outputs": [
        {
          "output_type": "stream",
          "text": [
            "g: [ 0  1  2  3  4  5  6  7  8  9 10 11 12 13 14 15 16 17 18 19 20 21 22 23]\n",
            "g2 [[ 0  1  2  3  4  5]\n",
            " [ 6  7  8  9 10 11]\n",
            " [12 13 14 15 16 17]\n",
            " [18 19 20 21 22 23]]\n"
          ],
          "name": "stdout"
        }
      ]
    },
    {
      "cell_type": "markdown",
      "metadata": {
        "id": "7W6e3H4g5qYm"
      },
      "source": [
        "만약 위에서 선언한 `g2` 배열의 특정 원소를 변경하면 어떻게 될까요?    \r\n",
        "중요한 것은 `g` 넘파이 배열도 같이 값이 변경된다는 것입니다"
      ]
    },
    {
      "cell_type": "code",
      "metadata": {
        "colab": {
          "base_uri": "https://localhost:8080/"
        },
        "id": "4UjGaErh5_lb",
        "outputId": "0bae00cb-910b-4644-cd06-a74ab600dc5c"
      },
      "source": [
        "g2[1, 2] = 999\r\n",
        "print(g2)\r\n",
        "print(g)"
      ],
      "execution_count": null,
      "outputs": [
        {
          "output_type": "stream",
          "text": [
            "[[  0   1   2   3   4   5]\n",
            " [  6   7 999   9  10  11]\n",
            " [ 12  13  14  15  16  17]\n",
            " [ 18  19  20  21  22  23]]\n",
            "[  0   1   2   3   4   5   6   7 999   9  10  11  12  13  14  15  16  17\n",
            "  18  19  20  21  22  23]\n"
          ],
          "name": "stdout"
        }
      ]
    },
    {
      "cell_type": "markdown",
      "metadata": {
        "id": "BRVNfNO16Pz9"
      },
      "source": [
        "- `g.ravel` 함수는 동일한 데이터를 가리키는 새로운 1차원 `ndarray` 를 반환"
      ]
    },
    {
      "cell_type": "code",
      "metadata": {
        "colab": {
          "base_uri": "https://localhost:8080/"
        },
        "id": "1BJfC8lR6ftQ",
        "outputId": "8a6fb305-534c-49d8-9283-6e7b35447972"
      },
      "source": [
        "g.ravel()"
      ],
      "execution_count": null,
      "outputs": [
        {
          "output_type": "execute_result",
          "data": {
            "text/plain": [
              "array([  0,   1,   2,   3,   4,   5,   6,   7, 999,   9,  10,  11,  12,\n",
              "        13,  14,  15,  16,  17,  18,  19,  20,  21,  22,  23])"
            ]
          },
          "metadata": {
            "tags": []
          },
          "execution_count": 41
        }
      ]
    },
    {
      "cell_type": "markdown",
      "metadata": {
        "id": "d27izqh_6hcD"
      },
      "source": [
        "## 산술 연산자\r\n",
        "- 일반적인 산술 연산자를 ndarray 타입에 적용할 수 있음\r\n",
        "- 이 연산자는 원소별로 연산이 수행됨\r\n",
        "- 배열의 크기는 같아야 함\r\n",
        "- 여기서의 곱셈은 행렬 곱셈이 아니라 원소별 곱셈임을 조심하자"
      ]
    },
    {
      "cell_type": "code",
      "metadata": {
        "colab": {
          "base_uri": "https://localhost:8080/"
        },
        "id": "aCiq4pv07D93",
        "outputId": "c434ba1b-f2e0-4eca-8c64-e86f05814b5f"
      },
      "source": [
        "a = np.array([14, 23, 29, 93])\r\n",
        "b = np.array([1, 2,  3,  4])\r\n",
        "print(\"a + b = \", a + b)\r\n",
        "print(\"a * b = \", a * b)\r\n",
        "print(\"a / b = \", a / b)\r\n",
        "print(\"a // b = \", a // b)\r\n",
        "print(\"a % b = \", a % b)\r\n",
        "print(\"a ** b = \", a ** b)"
      ],
      "execution_count": null,
      "outputs": [
        {
          "output_type": "stream",
          "text": [
            "a + b =  [15 25 32 97]\n",
            "a * b =  [ 14  46  87 372]\n",
            "a / b =  [14.         11.5         9.66666667 23.25      ]\n",
            "a // b =  [14 11  9 23]\n",
            "a % b =  [0 1 2 1]\n",
            "a ** b =  [      14      529    24389 74805201]\n"
          ],
          "name": "stdout"
        }
      ]
    },
    {
      "cell_type": "markdown",
      "metadata": {
        "id": "F6I6I0M_7WEe"
      },
      "source": [
        "## 브로드캐스팅\r\n",
        "- 일반적으로 넘파이 배열은 동일한 크기의 길이를 예상하지만, 그렇지 않을 경우에는 브로드캐스팅 규칙을 적용  \r\n",
        "- 규칙 1 : 배열의 rank가 맞지 않으면, 맞을 때까지 rank 앞에 1을 추가함\r\n",
        "- 규칙 2 : 특정 차원이 1인 배열은 그 차원에서 크기가 가장 큰 배열의 크기에 맞춰 생성됨\r\n",
        "- 규칙 3 : 규칙 1 & 2를 적용했을 때 배열의 크기가 맞아야 함"
      ]
    },
    {
      "cell_type": "code",
      "metadata": {
        "colab": {
          "base_uri": "https://localhost:8080/"
        },
        "id": "m_AycRK_9M0W",
        "outputId": "95851e11-003f-4c67-9051-8a96e9a177f9"
      },
      "source": [
        "# 규칙1\r\n",
        "h = np.arange(1, 5).reshape(1, 1, 4)\r\n",
        "h + np.array([1,2,3,4])\r\n",
        "\r\n",
        "# 규칙2\r\n",
        "k = np.arange(6).reshape(2, 3)\r\n",
        "k + [[100], [200]]"
      ],
      "execution_count": null,
      "outputs": [
        {
          "output_type": "execute_result",
          "data": {
            "text/plain": [
              "array([[100, 101, 102],\n",
              "       [203, 204, 205]])"
            ]
          },
          "metadata": {
            "tags": []
          },
          "execution_count": 48
        }
      ]
    },
    {
      "cell_type": "code",
      "metadata": {
        "colab": {
          "base_uri": "https://localhost:8080/"
        },
        "id": "hpQnPhq395Ik",
        "outputId": "7e100220-9741-4d02-a569-92117b1a6385"
      },
      "source": [
        "a = [1,2,3,4]\r\n",
        "b = [4,3,2,1]\r\n",
        "np.maximum(a, b)\r\n",
        "np.minimum(a, b)\r\n"
      ],
      "execution_count": null,
      "outputs": [
        {
          "output_type": "execute_result",
          "data": {
            "text/plain": [
              "array([4, 3, 3, 4])"
            ]
          },
          "metadata": {
            "tags": []
          },
          "execution_count": 51
        }
      ]
    },
    {
      "cell_type": "markdown",
      "metadata": {
        "id": "M5atY46a-K5Q"
      },
      "source": [
        "## 보통의 배열과 넘파이 배열과의 차이점\r\n",
        "- ndarray 슬라이싱에 하나의 값을 할당하면, 하나의 값이 중복돼서 저장됨\r\n"
      ]
    },
    {
      "cell_type": "code",
      "metadata": {
        "colab": {
          "base_uri": "https://localhost:8080/"
        },
        "id": "qTzNAHXY-n8K",
        "outputId": "14dd3d63-b4ec-4753-b6dd-15983212c566"
      },
      "source": [
        "a = np.arange(1, 10)\r\n",
        "a[2:5] = 999\r\n",
        "a"
      ],
      "execution_count": null,
      "outputs": [
        {
          "output_type": "execute_result",
          "data": {
            "text/plain": [
              "array([  1,   2, 999, 999, 999,   6,   7,   8,   9])"
            ]
          },
          "metadata": {
            "tags": []
          },
          "execution_count": 52
        }
      ]
    },
    {
      "cell_type": "markdown",
      "metadata": {
        "id": "ZhBOlVM1-pmA"
      },
      "source": [
        "- 또한 이런 식으로 ndarray 크기를 늘리거나 줄일 수 없습니다:"
      ]
    },
    {
      "cell_type": "code",
      "metadata": {
        "colab": {
          "base_uri": "https://localhost:8080/"
        },
        "id": "Aqm-a1ad-uvP",
        "outputId": "9a6dcab9-fa2d-4ae5-a186-c38cb31acf54"
      },
      "source": [
        "try:\r\n",
        "  a[2:5] = [1,2,3,3,4,5]\r\n",
        "except ValueError as e:\r\n",
        "  print(e)"
      ],
      "execution_count": null,
      "outputs": [
        {
          "output_type": "stream",
          "text": [
            "cannot copy sequence with size 6 to array axis with dimension 3\n"
          ],
          "name": "stdout"
        }
      ]
    },
    {
      "cell_type": "markdown",
      "metadata": {
        "id": "RKxbX-02-3-5"
      },
      "source": [
        "- 원소 삭제도 안됨"
      ]
    },
    {
      "cell_type": "code",
      "metadata": {
        "colab": {
          "base_uri": "https://localhost:8080/"
        },
        "id": "4qvdJ-7c-8kW",
        "outputId": "005381c9-e34b-4f63-84a6-8a2c842e4f08"
      },
      "source": [
        "try:\r\n",
        "  del a[2:5]\r\n",
        "except ValueError as e:\r\n",
        "  print(e)"
      ],
      "execution_count": null,
      "outputs": [
        {
          "output_type": "stream",
          "text": [
            "cannot delete array elements\n"
          ],
          "name": "stdout"
        }
      ]
    },
    {
      "cell_type": "markdown",
      "metadata": {
        "id": "lNcLm_OM-8_v"
      },
      "source": [
        "- 중요한 점은 ndarray의 슬라이싱 수행시 원본 객체가 같이 수정된다는 점\r\n",
        "- 즉 ndarray는 같은 데이터 버퍼를 바라보면 view\r\n",
        "- 데이터를 복사하려면 `copy()` 를 사용해야 함\r\n"
      ]
    },
    {
      "cell_type": "markdown",
      "metadata": {
        "id": "2H1K8PM6_YVo"
      },
      "source": [
        "## 다차원 배열\r\n",
        "- 다음의 두 경우에는 미묘한 차이가 있는데, 첫 번째 것은 1D인 배열이, 두 번째 것은 2D인 배열이 return 됨"
      ]
    },
    {
      "cell_type": "code",
      "metadata": {
        "colab": {
          "base_uri": "https://localhost:8080/"
        },
        "id": "VCgjuOld_j9w",
        "outputId": "a1059604-d63c-4039-b5b0-ff89f00e5762"
      },
      "source": [
        "b = np.arange(48).reshape(4, 12)\r\n",
        "print(b[1, :])\r\n",
        "print(b[1:2, :])"
      ],
      "execution_count": null,
      "outputs": [
        {
          "output_type": "stream",
          "text": [
            "[12 13 14 15 16 17 18 19 20 21 22 23]\n",
            "[[12 13 14 15 16 17 18 19 20 21 22 23]]\n"
          ],
          "name": "stdout"
        }
      ]
    },
    {
      "cell_type": "markdown",
      "metadata": {
        "id": "iuR0h4TEASlC"
      },
      "source": [
        "## 팬시 인덱싱(Fancy indexing)\r\n",
        "- 관심 대상의 리스트를 지정할 수도 있음\r\n"
      ]
    },
    {
      "cell_type": "code",
      "metadata": {
        "colab": {
          "base_uri": "https://localhost:8080/"
        },
        "id": "tCSzmvYMXuho",
        "outputId": "396c24b2-7c35-488c-9555-8ad2fee97a64"
      },
      "source": [
        "b[(0, 2), 2:4]\r\n",
        "b[:, (-1, 2, -1)]"
      ],
      "execution_count": null,
      "outputs": [
        {
          "output_type": "execute_result",
          "data": {
            "text/plain": [
              "array([[11,  2, 11],\n",
              "       [23, 14, 23],\n",
              "       [35, 26, 35],\n",
              "       [47, 38, 47]])"
            ]
          },
          "metadata": {
            "tags": []
          },
          "execution_count": 60
        }
      ]
    },
    {
      "cell_type": "markdown",
      "metadata": {
        "id": "IDu1kKR2XxH1"
      },
      "source": [
        "- 여러 개의 인덱스 리스트를 지정하면, 인덱스에 맞는 값이 포함된 1D ndarray를 반환함  "
      ]
    },
    {
      "cell_type": "code",
      "metadata": {
        "colab": {
          "base_uri": "https://localhost:8080/"
        },
        "id": "asaugsfQZDoE",
        "outputId": "ae7b68d4-81fe-4f24-ebda-33e11e9526cd"
      },
      "source": [
        "b[(-1, 2, -1, 2), (5, 9, 5, 9)]"
      ],
      "execution_count": null,
      "outputs": [
        {
          "output_type": "execute_result",
          "data": {
            "text/plain": [
              "array([41, 33, 41, 33])"
            ]
          },
          "metadata": {
            "tags": []
          },
          "execution_count": 61
        }
      ]
    },
    {
      "cell_type": "markdown",
      "metadata": {
        "id": "IHZ3bMj3ZG3i"
      },
      "source": [
        "## 고차원\r\n",
        "- 고차원에서의 슬라이싱은 마찬가지\r\n",
        "- 만약 특정 인덱스를 지정하지 않으면 모든 값이 선택됨 --> [:] 과 동일\r\n",
        "- 생략 부호(...)를 쓰면 지정하지 않는 축의 원소를 반환\r\n"
      ]
    },
    {
      "cell_type": "code",
      "metadata": {
        "colab": {
          "base_uri": "https://localhost:8080/"
        },
        "id": "ZjMJcMfvZclQ",
        "outputId": "10eb71a1-f39a-4ba3-e21b-1c27fa3fbb1a"
      },
      "source": [
        "a = np.arange(24).reshape(3,4,2)\r\n",
        "print(a)\r\n",
        "print(\"=========\")\r\n",
        "print(a[1, ...])\r\n",
        "print(\"=========\")\r\n",
        "print(a[..., 1])"
      ],
      "execution_count": null,
      "outputs": [
        {
          "output_type": "stream",
          "text": [
            "[[[ 0  1]\n",
            "  [ 2  3]\n",
            "  [ 4  5]\n",
            "  [ 6  7]]\n",
            "\n",
            " [[ 8  9]\n",
            "  [10 11]\n",
            "  [12 13]\n",
            "  [14 15]]\n",
            "\n",
            " [[16 17]\n",
            "  [18 19]\n",
            "  [20 21]\n",
            "  [22 23]]]\n",
            "=========\n",
            "[[ 8  9]\n",
            " [10 11]\n",
            " [12 13]\n",
            " [14 15]]\n",
            "=========\n",
            "[[ 1  3  5  7]\n",
            " [ 9 11 13 15]\n",
            " [17 19 21 23]]\n"
          ],
          "name": "stdout"
        }
      ]
    },
    {
      "cell_type": "markdown",
      "metadata": {
        "id": "4TXYP6BKZluT"
      },
      "source": [
        "## 불리언 인덱싱\r\n",
        "- boolean 값을 가진 배열을 이용해 ndarray 슬라이싱 가능\r\n",
        "- 여러 축에 걸쳐서는 `ix_` 함수를 사용\r\n",
        "- 반복은 파이썬에서 사용하는 기본적인 반복 사용 가능"
      ]
    },
    {
      "cell_type": "code",
      "metadata": {
        "colab": {
          "base_uri": "https://localhost:8080/"
        },
        "id": "O68wY_urahH3",
        "outputId": "dd0b2994-7aa9-4a08-d9ff-3999d1baf9ee"
      },
      "source": [
        "a = np.arange(24).reshape(4, 6)\r\n",
        "a_boolean = np.array([True, False, True, False])\r\n",
        "b_boolean = np.array([True, False] * 3)\r\n",
        "\r\n",
        "print(a.shape)\r\n",
        "print(a_boolean)\r\n",
        "print(b_boolean)\r\n",
        "\r\n",
        "print(a[a_boolean, :])\r\n",
        "print(a[:, b_boolean])\r\n",
        "print(a[np.ix_(a_boolean, b_boolean)])"
      ],
      "execution_count": null,
      "outputs": [
        {
          "output_type": "stream",
          "text": [
            "(4, 6)\n",
            "[ True False  True False]\n",
            "[ True False  True False  True False]\n",
            "[[ 0  1  2  3  4  5]\n",
            " [12 13 14 15 16 17]]\n",
            "[[ 0  2  4]\n",
            " [ 6  8 10]\n",
            " [12 14 16]\n",
            " [18 20 22]]\n",
            "[[ 0  2  4]\n",
            " [12 14 16]]\n"
          ],
          "name": "stdout"
        }
      ]
    },
    {
      "cell_type": "markdown",
      "metadata": {
        "id": "OqUnBbc5bTGB"
      },
      "source": [
        "## 배열 쌓기\r\n",
        "- `np.vstack` : 행결합\r\n",
        "- `np.hstack` : 열결합\r\n",
        "- `concetenate` : 지정한 축으로 배열 쌓기\r\n",
        "- `stack` : 새로운 축을 따라 쌓음. 쌓으려고 하는 배열의 차원이 같아야 함 "
      ]
    },
    {
      "cell_type": "code",
      "metadata": {
        "colab": {
          "base_uri": "https://localhost:8080/"
        },
        "id": "qZ3_IjeDclIC",
        "outputId": "3dad1a6d-e37e-491a-d3b1-36dd9b81efbc"
      },
      "source": [
        "a = np.arange(24).reshape(4, 6)\r\n",
        "b = np.arange(24).reshape(4, 6)\r\n",
        "\r\n",
        "print(np.vstack((a, b)))\r\n",
        "print(np.hstack((a, b)))\r\n",
        "print(np.concatenate((a,b), axis=0))\r\n",
        "print(np.stack((a,b)))"
      ],
      "execution_count": null,
      "outputs": [
        {
          "output_type": "stream",
          "text": [
            "[[ 0  1  2  3  4  5]\n",
            " [ 6  7  8  9 10 11]\n",
            " [12 13 14 15 16 17]\n",
            " [18 19 20 21 22 23]\n",
            " [ 0  1  2  3  4  5]\n",
            " [ 6  7  8  9 10 11]\n",
            " [12 13 14 15 16 17]\n",
            " [18 19 20 21 22 23]]\n",
            "[[ 0  1  2  3  4  5  0  1  2  3  4  5]\n",
            " [ 6  7  8  9 10 11  6  7  8  9 10 11]\n",
            " [12 13 14 15 16 17 12 13 14 15 16 17]\n",
            " [18 19 20 21 22 23 18 19 20 21 22 23]]\n",
            "[[ 0  1  2  3  4  5]\n",
            " [ 6  7  8  9 10 11]\n",
            " [12 13 14 15 16 17]\n",
            " [18 19 20 21 22 23]\n",
            " [ 0  1  2  3  4  5]\n",
            " [ 6  7  8  9 10 11]\n",
            " [12 13 14 15 16 17]\n",
            " [18 19 20 21 22 23]]\n",
            "[[[ 0  1  2  3  4  5]\n",
            "  [ 6  7  8  9 10 11]\n",
            "  [12 13 14 15 16 17]\n",
            "  [18 19 20 21 22 23]]\n",
            "\n",
            " [[ 0  1  2  3  4  5]\n",
            "  [ 6  7  8  9 10 11]\n",
            "  [12 13 14 15 16 17]\n",
            "  [18 19 20 21 22 23]]]\n"
          ],
          "name": "stdout"
        }
      ]
    },
    {
      "cell_type": "markdown",
      "metadata": {
        "id": "fosEcVdkdF54"
      },
      "source": [
        "## 배열 분할\r\n",
        "- 분할은 쌓기의 반대임\r\n",
        "- `vsplit` : 수직으로 배열을 분할함\r\n",
        "- `hsplit` : 수평으로 배열을 분할함"
      ]
    },
    {
      "cell_type": "code",
      "metadata": {
        "colab": {
          "base_uri": "https://localhost:8080/"
        },
        "id": "51GJ-_SZeSaL",
        "outputId": "7010f5f4-8441-4461-fc8e-3e0d628cf21b"
      },
      "source": [
        "np.vsplit(a, 2)\r\n",
        "np.hsplit(a, 3)"
      ],
      "execution_count": null,
      "outputs": [
        {
          "output_type": "execute_result",
          "data": {
            "text/plain": [
              "[array([[ 0,  1],\n",
              "        [ 6,  7],\n",
              "        [12, 13],\n",
              "        [18, 19]]), array([[ 2,  3],\n",
              "        [ 8,  9],\n",
              "        [14, 15],\n",
              "        [20, 21]]), array([[ 4,  5],\n",
              "        [10, 11],\n",
              "        [16, 17],\n",
              "        [22, 23]])]"
            ]
          },
          "metadata": {
            "tags": []
          },
          "execution_count": 89
        }
      ]
    },
    {
      "cell_type": "markdown",
      "metadata": {
        "id": "aDbbYDhfeVIK"
      },
      "source": [
        "## 배열 전치\r\n",
        "- `transpose` --> 축을 뒤바꾸어 ndarray의 데이터에 대한 새로운 뷰를 만듬\r\n",
        "- 예를 들어 3D 배열을 만들어보자"
      ]
    },
    {
      "cell_type": "code",
      "metadata": {
        "colab": {
          "base_uri": "https://localhost:8080/"
        },
        "id": "BrhdOTJve1tb",
        "outputId": "d739b484-d3cc-414f-b53e-86b5a2d4697b"
      },
      "source": [
        "t = np.arange(24).reshape(4, 2, 3)\r\n",
        "t"
      ],
      "execution_count": null,
      "outputs": [
        {
          "output_type": "execute_result",
          "data": {
            "text/plain": [
              "array([[[ 0,  1,  2],\n",
              "        [ 3,  4,  5]],\n",
              "\n",
              "       [[ 6,  7,  8],\n",
              "        [ 9, 10, 11]],\n",
              "\n",
              "       [[12, 13, 14],\n",
              "        [15, 16, 17]],\n",
              "\n",
              "       [[18, 19, 20],\n",
              "        [21, 22, 23]]])"
            ]
          },
          "metadata": {
            "tags": []
          },
          "execution_count": 91
        }
      ]
    },
    {
      "cell_type": "code",
      "metadata": {
        "colab": {
          "base_uri": "https://localhost:8080/"
        },
        "id": "VqjO6j44e7EC",
        "outputId": "8dedc9b6-be73-4564-cdb9-698ef5277ddd"
      },
      "source": [
        "t2 = t.transpose(1, 2, 0)\r\n",
        "print(t.shape)\r\n",
        "print(t2.shape)"
      ],
      "execution_count": null,
      "outputs": [
        {
          "output_type": "stream",
          "text": [
            "(4, 2, 3)\n",
            "(2, 3, 4)\n"
          ],
          "name": "stdout"
        }
      ]
    },
    {
      "cell_type": "markdown",
      "metadata": {
        "id": "AWL2lvWwfCrP"
      },
      "source": [
        "`swapaxes` --> 두 축을 바꾸는 함수 제공\r\n"
      ]
    },
    {
      "cell_type": "code",
      "metadata": {
        "colab": {
          "base_uri": "https://localhost:8080/"
        },
        "id": "FH2yZ8aQfZkG",
        "outputId": "b595e68b-5ebc-4fed-f2f8-84c7694f346d"
      },
      "source": [
        "t.swapaxes(0, 1) # t.transpose(1, 0, 2)와 동일"
      ],
      "execution_count": null,
      "outputs": [
        {
          "output_type": "execute_result",
          "data": {
            "text/plain": [
              "array([[[ 0,  1,  2],\n",
              "        [ 6,  7,  8],\n",
              "        [12, 13, 14],\n",
              "        [18, 19, 20]],\n",
              "\n",
              "       [[ 3,  4,  5],\n",
              "        [ 9, 10, 11],\n",
              "        [15, 16, 17],\n",
              "        [21, 22, 23]]])"
            ]
          },
          "metadata": {
            "tags": []
          },
          "execution_count": 95
        }
      ]
    },
    {
      "cell_type": "markdown",
      "metadata": {
        "id": "xPHi9pWAfm_D"
      },
      "source": [
        "- 행렬 전치\r\n",
        "  - `T` --> rank가 2보다 클때 행렬 전치 수행  \r\n",
        "  - rank가 1일 때는 아무런 영향을 미치지 않음\r\n",
        "- 행렬 점곱\r\n",
        "  - `dot` --> 행렬 점곱 수행\r\n",
        "- 역행렬과 유사 역행렬\r\n",
        "  - `numpy.linalg` 모듈 안에는 많은 선형 대수 함수들이 들어가 있음\r\n",
        "  - `inv`  --> 정방 행렬의 역함수 계산\r\n",
        "  - `pinv` --> 유사 역행렬 계산\r\n",
        "  - `eye`  --> NxN의 단위행렬 생성\r\n",
        "  - `qr`   --> 행렬을 QR 분해함\r\n",
        "  - `det`  --> 행렬식(determinant) 계산\r\n",
        "  - `eig`  --> 고윳값(eigenvalue), 고유벡터(eigenVector) 계산\r\n",
        "  - `svd`  --> 특이값 분해\r\n",
        "  - `np.diag` --> 원소의 대각원소\r\n",
        "  - `np.trace` --> 원소의 대각합\r\n",
        "  - `linalg.solve` --> 선형 방정식 계산"
      ]
    },
    {
      "cell_type": "markdown",
      "metadata": {
        "id": "NsHnCbuUhe4G"
      },
      "source": [
        "## 벡터화\r\n",
        "- 한 번에 하나씩 개별 원소를 계산하는 것 보다 배열 연산을 사용하면 훨씬 효율적인 코드를 작성할 수 있음\r\n",
        "- 이를 사용하여 넘파이의 최적화된 성능 활용 가능\r\n",
        "- `np.meshgrid` --> 좌표 벡터 생성 가능"
      ]
    },
    {
      "cell_type": "code",
      "metadata": {
        "id": "R9uda2Uwh0Z1"
      },
      "source": [
        "x_coords = np.arange(0, 1024) # [0, 1, 2, ..., 1023]\r\n",
        "y_coords = np.arange(0, 768) # [0, 1, 2, ..., 767]\r\n",
        "X, Y = np.meshgrid(x_coords, y_coords)\r\n",
        "print(X)\r\n",
        "print(Y)\r\n",
        "data = np.sin(X*Y/40.5)"
      ],
      "execution_count": null,
      "outputs": []
    }
  ]
}