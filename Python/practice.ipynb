{
 "cells": [
  {
   "cell_type": "code",
   "execution_count": 91,
   "id": "unsigned-today",
   "metadata": {},
   "outputs": [],
   "source": [
    "# 다항차수 변환, 교호작용 변수 생성\n",
    "# sklearn.preprocessing.PolynomialFeatures 을 활용한 다항차수 변환 및 교호작용 생성\n",
    "# 다항 차수를 생성해서 비선형 관계를 표현하거나, 변수간 곱을 사용해서 교호작용 효과를 나타낼 수 있는 변수를 만듬"
   ]
  },
  {
   "cell_type": "code",
   "execution_count": 92,
   "id": "extraordinary-reading",
   "metadata": {},
   "outputs": [
    {
     "data": {
      "text/plain": [
       "array([[ 1.,  0.,  1.,  0.,  0.,  1.],\n",
       "       [ 1.,  2.,  3.,  4.,  6.,  9.],\n",
       "       [ 1.,  4.,  5., 16., 20., 25.]])"
      ]
     },
     "execution_count": 92,
     "metadata": {},
     "output_type": "execute_result"
    }
   ],
   "source": [
    "import numpy as np\n",
    "import pandas as pd\n",
    "from sklearn.preprocessing import PolynomialFeatures\n",
    "X = np.arange(6).reshape(3, 2)\n",
    "\n",
    "poly = PolynomialFeatures(degree = 2)\n",
    "poly.fit_transform(X)"
   ]
  },
  {
   "cell_type": "code",
   "execution_count": 93,
   "id": "appreciated-repeat",
   "metadata": {},
   "outputs": [
    {
     "data": {
      "text/plain": [
       "array([[0, 1],\n",
       "       [2, 3],\n",
       "       [4, 5]])"
      ]
     },
     "execution_count": 93,
     "metadata": {},
     "output_type": "execute_result"
    }
   ],
   "source": [
    "X"
   ]
  },
  {
   "cell_type": "code",
   "execution_count": 95,
   "id": "fossil-framework",
   "metadata": {},
   "outputs": [],
   "source": [
    "p = pd.DataFrame({\n",
    "    'A':['a', 'b', 'c'],\n",
    "    'B':[1,2,3]\n",
    "})"
   ]
  },
  {
   "cell_type": "code",
   "execution_count": 110,
   "id": "organizational-election",
   "metadata": {},
   "outputs": [
    {
     "data": {
      "text/plain": [
       "array([[ 6, 19, 28, 14, 10],\n",
       "       [ 7, 28, 20,  6, 25],\n",
       "       [18, 22, 10, 10, 23],\n",
       "       [20,  3,  7, 23,  2],\n",
       "       [21, 20,  1, 23, 11],\n",
       "       [29,  5,  1, 27, 20]])"
      ]
     },
     "execution_count": 110,
     "metadata": {},
     "output_type": "execute_result"
    }
   ],
   "source": [
    "import scipy.stats as ss\n",
    "from sklearn.preprocessing import StandardScaler\n",
    "np.random.seed(42)\n",
    "data = np.random.randint(30, size = (6, 5))\n",
    "data"
   ]
  },
  {
   "cell_type": "code",
   "execution_count": 111,
   "id": "polyphonic-qualification",
   "metadata": {},
   "outputs": [
    {
     "data": {
      "text/plain": [
       "array([[-1.34227633,  0.31199226,  1.70211289, -0.41412128, -0.63370969],\n",
       "       [-1.2183739 ,  1.30302651,  0.89318795, -1.46032242,  1.20609263],\n",
       "       [ 0.14455284,  0.64233701, -0.11796822, -0.93722185,  0.96078565],\n",
       "       [ 0.3923577 , -1.44984639, -0.42131507,  0.762855  , -1.61493758],\n",
       "       [ 0.51626013,  0.42210718, -1.02800878,  0.762855  , -0.5110562 ],\n",
       "       [ 1.50747958, -1.22961656, -1.02800878,  1.28595556,  0.59282519]])"
      ]
     },
     "execution_count": 111,
     "metadata": {},
     "output_type": "execute_result"
    }
   ],
   "source": [
    "ss.zscore(data)"
   ]
  },
  {
   "cell_type": "code",
   "execution_count": 112,
   "id": "waiting-corporation",
   "metadata": {
    "scrolled": true
   },
   "outputs": [
    {
     "data": {
      "text/plain": [
       "array([[-1.34227633,  0.31199226,  1.70211289, -0.41412128, -0.63370969],\n",
       "       [-1.2183739 ,  1.30302651,  0.89318795, -1.46032242,  1.20609263],\n",
       "       [ 0.14455284,  0.64233701, -0.11796822, -0.93722185,  0.96078565],\n",
       "       [ 0.3923577 , -1.44984639, -0.42131507,  0.762855  , -1.61493758],\n",
       "       [ 0.51626013,  0.42210718, -1.02800878,  0.762855  , -0.5110562 ],\n",
       "       [ 1.50747958, -1.22961656, -1.02800878,  1.28595556,  0.59282519]])"
      ]
     },
     "execution_count": 112,
     "metadata": {},
     "output_type": "execute_result"
    }
   ],
   "source": [
    "StandardScaler().fit_transform(data)"
   ]
  }
 ],
 "metadata": {
  "kernelspec": {
   "display_name": "Python 3",
   "language": "python",
   "name": "python3"
  },
  "language_info": {
   "codemirror_mode": {
    "name": "ipython",
    "version": 3
   },
   "file_extension": ".py",
   "mimetype": "text/x-python",
   "name": "python",
   "nbconvert_exporter": "python",
   "pygments_lexer": "ipython3",
   "version": "3.7.7"
  }
 },
 "nbformat": 4,
 "nbformat_minor": 5
}
