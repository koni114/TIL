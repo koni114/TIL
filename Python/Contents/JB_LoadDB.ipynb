{
 "cells": [
  {
   "cell_type": "markdown",
   "metadata": {
    "id": "SL4caU27bTnl"
   },
   "source": [
    "## DB에 Python으로 접속하여 SQL Query를 이용하여 pandas DataFrame 만들기"
   ]
  },
  {
   "cell_type": "markdown",
   "metadata": {
    "id": "hEcZfe_oc4_r"
   },
   "source": [
    "### Oracle DB에서 pandas DataFrame 만들기"
   ]
  },
  {
   "cell_type": "code",
   "execution_count": null,
   "metadata": {
    "id": "OYxpExEzd8gU"
   },
   "outputs": [],
   "source": [
    "def query_OracleSQL(query):\n",
    "  import pandas as pd\n",
    "  import cx_Oracle as co\n",
    "  from datetime import datetime\n",
    "\n",
    "  start_tm = datetime.now()\n",
    "\n",
    "  # DB Connection\n",
    "  dsn_tns = co.makedsn(\"Host Name\", \"Post Number\", service_name = \"service_name\")\n",
    "  conn = co.connect(user=\"UserName\", password = \"Personal Password\", dsn = dnsStr)\n",
    "\n",
    "  # Get a dataframe\n",
    "  query_result = pd.read_sql(query, conn)\n",
    "\n",
    "  # Close connection\n",
    "  conn.close()\n",
    "\n",
    "  end_tm = datetime.now()\n",
    "\n",
    "  print(\"Start Time : \", start_tm)\n",
    "  print(\"End TIme : \", end_tm)\n",
    "  print(\"ELAP :\",  str(end_tm - start_tm))\n",
    "\n",
    "  return query_result\n",
    "\n",
    "##-- SQL query\n",
    "query = \"\"\"\n",
    "     SELECT var1, var2, ymd, count(*) as cnt\n",
    "          FROM myOracleDB\n",
    "          WHERE ymd BETWEEN\n",
    "               to_date('2016-11-22T00:00:00', 'YYYY-MM-DD\"T\"HH24:MI:SS')\n",
    "               AND\n",
    "               to_date('2016-11-22T23:59:59', 'YYYY-MM-DD\"T\"HH24:MI:SS')\n",
    "GROUP BY var1\n",
    "ORDER BY cnt\n",
    "               \"\"\""
   ]
  },
  {
   "cell_type": "markdown",
   "metadata": {
    "id": "lcUx7Nj3fV73"
   },
   "source": [
    "### PostgreSQL에 Python으로 접속하여 SQL query 해서 pandas DataFrame 만들기"
   ]
  },
  {
   "cell_type": "code",
   "execution_count": null,
   "metadata": {
    "id": "IE86loq1gFPU"
   },
   "outputs": [],
   "source": [
    "def query_postgreSQL(query):\n",
    "  import pandas as pd\n",
    "  import psycopg2 as pg\n",
    "  from datetime import datetime\n",
    "\n",
    "  conn = pg.connect(host = \"\",\n",
    "                    port = '',\n",
    "                    dbname = '',\n",
    "                    user = '',\n",
    "                    password = '')\n",
    "\n",
    "  start_tm = datetime.now()\n",
    "\n",
    "  query_result = pd.read_sql(conn, query)\n",
    "\n",
    "  end_tm = datetime.now()\n",
    "\n",
    "  print(\"START: \", start_tm)\n",
    "  print(\"END: \", end_tm)\n",
    "  print(\"ELAP:\", start_tm - end_tm)\n",
    "\n",
    "  return query_result"
   ]
  }
 ],
 "metadata": {
  "colab": {
   "collapsed_sections": [],
   "name": "JB_LoadDB.ipynb",
   "provenance": []
  },
  "kernelspec": {
   "display_name": "Python 3",
   "language": "python",
   "name": "python3"
  },
  "language_info": {
   "codemirror_mode": {
    "name": "ipython",
    "version": 3
   },
   "file_extension": ".py",
   "mimetype": "text/x-python",
   "name": "python",
   "nbconvert_exporter": "python",
   "pygments_lexer": "ipython3",
   "version": "3.7.7"
  }
 },
 "nbformat": 4,
 "nbformat_minor": 1
}
