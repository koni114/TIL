{
  "nbformat": 4,
  "nbformat_minor": 0,
  "metadata": {
    "colab": {
      "name": "JB_normalization_standardization.ipynb",
      "provenance": [],
      "collapsed_sections": []
    },
    "kernelspec": {
      "name": "python3",
      "display_name": "Python 3"
    }
  },
  "cells": [
    {
      "cell_type": "markdown",
      "metadata": {
        "id": "B3sNvQTlVIsa"
      },
      "source": [
        "### 표준화(standardization)\r\n",
        "- 보통 척도 조절을 위해 표준화를 많이 진행하는데, 그 중에서도 평균이 0 표준편차가 1인 표준정규분포로 표준화를 많이 진행함"
      ]
    },
    {
      "cell_type": "code",
      "metadata": {
        "colab": {
          "base_uri": "https://localhost:8080/"
        },
        "id": "Kn2x7TKIWkLy",
        "outputId": "37ddb1b5-63ae-471f-aeba-80d613a08229"
      },
      "source": [
        "import numpy as np\r\n",
        "import pandas as pd\r\n",
        "import scipy.stats as ss\r\n",
        "from sklearn.preprocessing import StandardScaler\r\n",
        "np.random.seed(42)\r\n",
        "data = np.random.randint(30, size=(6, 5))\r\n",
        "\r\n",
        "# (1) numpy를 이용한 표준화\r\n",
        "# 컬럼마다 각각의 평균, 표준편차를 적용하려면 axis = 0 지정해 주어야 함\r\n",
        "data_standardization = (data - np.mean(data, axis = 0)) / np.std(data, axis = 0)\r\n",
        "np.mean(data_standardization, axis = 0)\r\n",
        "np.std(data_standardization, axis = 0)\r\n",
        "data_standardization\r\n",
        "\r\n",
        "# (2) scipy.stats을 이용한 표준화 : ss.zscore()\r\n",
        "ss.zscore(data)\r\n",
        "\r\n",
        "# (3) sklearn.preprocessing 을 이용한 표준화 : StandardScaler().fit_transform()\r\n",
        "data_standardized_skl = StandardScaler().fit_transform(data)\r\n",
        "data_standardized_skl"
      ],
      "execution_count": null,
      "outputs": [
        {
          "output_type": "execute_result",
          "data": {
            "text/plain": [
              "array([[-1.34227633,  0.31199226,  1.70211289, -0.41412128, -0.63370969],\n",
              "       [-1.2183739 ,  1.30302651,  0.89318795, -1.46032242,  1.20609263],\n",
              "       [ 0.14455284,  0.64233701, -0.11796822, -0.93722185,  0.96078565],\n",
              "       [ 0.3923577 , -1.44984639, -0.42131507,  0.762855  , -1.61493758],\n",
              "       [ 0.51626013,  0.42210718, -1.02800878,  0.762855  , -0.5110562 ],\n",
              "       [ 1.50747958, -1.22961656, -1.02800878,  1.28595556,  0.59282519]])"
            ]
          },
          "metadata": {
            "tags": []
          },
          "execution_count": 31
        }
      ]
    },
    {
      "cell_type": "markdown",
      "metadata": {
        "id": "v2aW5qV7XyVQ"
      },
      "source": [
        "### 이상치, 특이값이 들어있는 데이터의 표준화(Scaling data with outliers)\r\n",
        "- 이상치 특이값 제거 후 표준화 변환\r\n",
        "- median, IQR을 이용해서 척도 표준화\r\n",
        "- KNN non-parametric modeling"
      ]
    },
    {
      "cell_type": "code",
      "metadata": {
        "colab": {
          "base_uri": "https://localhost:8080/",
          "height": 520
        },
        "id": "wuPnHtm2YDfk",
        "outputId": "5d82d9b6-2cff-468a-8cf6-95efa180e0ba"
      },
      "source": [
        "# (1) sklearn.preprocessing.RobustScaler() \r\n",
        "# --> (x - median) / IQR\r\n",
        "import numpy as np\r\n",
        "from sklearn.preprocessing import StandardScaler, RobustScaler\r\n",
        "import matplotlib.pyplot as plt\r\n",
        "import pandas as pd\r\n",
        "\r\n",
        "np.set_printoptions(precision = 2)\r\n",
        "np.random.seed(42)\r\n",
        "mu, sigma = 10, 2\r\n",
        "x = mu + sigma * np.random.randn(100)\r\n",
        "x\r\n",
        "\r\n",
        "# check histogram\r\n",
        "#plt.hist(x)\r\n",
        "\r\n",
        "# mean, std\r\n",
        "print(\"np.mean : \", np.mean(x))\r\n",
        "print(\"np.std  : \", np.std(x))\r\n",
        "\r\n",
        "# inserting outliers\r\n",
        "x[98:100] = 100\r\n",
        "#plt.hist(x, bins = np.arange(0, 102, 2))\r\n",
        "\r\n",
        "# (1) 이상치가 포함된 데이터의 표준정규분포로의 표준화 : StandardScaler()\r\n",
        "x = x.reshape(-1, 1)\r\n",
        "x_standardScaler = StandardScaler().fit_transform(x)\r\n",
        "\r\n",
        "# mean = 0, std = 1로 포준정규분포 기반 표준화 수행됨\r\n",
        "print(\"standardScaler np.mean :\", np.mean(x_standardScaler))\r\n",
        "print(\"standardScaler np.std :\", np.std(x_standardScaler))\r\n",
        "\r\n",
        "# histogram 확인 결과, 이상치 때문에 제대로 확인 불가\r\n",
        "# plt.hist(x_standardScaler)\r\n",
        "\r\n",
        "# 이상치를 걸러내고 확인.\r\n",
        "x_standardScaler_zoomin = x_standardScaler[x_standardScaler < 5]\r\n",
        "# plt.hist(x_standardScaler_zoomin, bins = np.arange(-3.0, 3.0, 0.2))\r\n",
        "\r\n",
        "# (2) median, IQR를 이용한 표준화\r\n",
        "print(\"np.median : \", np.median(x))\r\n",
        "print(\"IQR : \", np.quantile(x, q = 0.75) - np.quantile(x, q = 0.25))\r\n",
        "\r\n",
        "x_RobustScaler = RobustScaler().fit_transform(x)\r\n",
        "# plt.hist(x_RobustScaler)\r\n",
        "\r\n",
        "x_RobustScaler_zoomin = x_RobustScaler[x_RobustScaler < 5]\r\n",
        "plt.hist(x_RobustScaler_zoomin, bins = np.arange(-3.0, 3.0, 0.2))"
      ],
      "execution_count": null,
      "outputs": [
        {
          "output_type": "stream",
          "text": [
            "np.mean :  9.792306965211813\n",
            "np.std  :  1.8072323532892591\n",
            "standardScaler np.mean : -1.7763568394002505e-17\n",
            "standardScaler np.std : 1.0\n",
            "np.median :  9.812341596031427\n",
            "IQR :  2.2429925124559222\n"
          ],
          "name": "stdout"
        },
        {
          "output_type": "execute_result",
          "data": {
            "text/plain": [
              "(array([ 0.,  0.,  0.,  1.,  0.,  0.,  3.,  2.,  2.,  4.,  5.,  3.,  8.,\n",
              "        11., 11.,  8., 11.,  7.,  4.,  8.,  2.,  2.,  5.,  1.,  0.,  0.,\n",
              "         0.,  0.,  0.]),\n",
              " array([-3.00e+00, -2.80e+00, -2.60e+00, -2.40e+00, -2.20e+00, -2.00e+00,\n",
              "        -1.80e+00, -1.60e+00, -1.40e+00, -1.20e+00, -1.00e+00, -8.00e-01,\n",
              "        -6.00e-01, -4.00e-01, -2.00e-01,  2.66e-15,  2.00e-01,  4.00e-01,\n",
              "         6.00e-01,  8.00e-01,  1.00e+00,  1.20e+00,  1.40e+00,  1.60e+00,\n",
              "         1.80e+00,  2.00e+00,  2.20e+00,  2.40e+00,  2.60e+00,  2.80e+00]),\n",
              " <a list of 29 Patch objects>)"
            ]
          },
          "metadata": {
            "tags": []
          },
          "execution_count": 57
        },
        {
          "output_type": "display_data",
          "data": {
            "image/png": "[encoded data removed]",
            "text/plain": [
              "<Figure size 432x288 with 1 Axes>"
            ]
          },
          "metadata": {
            "tags": [],
            "needs_background": "light"
          }
        }
      ]
    },
    {
      "cell_type": "markdown",
      "metadata": {
        "id": "SHIaiJ_GbgHr"
      },
      "source": [
        "### 정규화(normalization) : MinMaxScaler(), minmax_scale()"
      ]
    },
    {
      "cell_type": "code",
      "metadata": {
        "colab": {
          "base_uri": "https://localhost:8080/"
        },
        "id": "csOLWuXOqDbe",
        "outputId": "a6d64ab4-9840-47e8-a42b-49278a9fb5ea"
      },
      "source": [
        "import numpy as np\r\n",
        "import pandas as pd\r\n",
        "from sklearn.preprocessing import MinMaxScaler, minmax_scale\r\n",
        "X = np.array(\r\n",
        "    [[10., -10, 1.],\r\n",
        "    [5., 0., 2.],\r\n",
        "    [0., 10., 3.]])\r\n",
        "\r\n",
        "# (1) 직접 최대 최소 값 구해서 계산\r\n",
        "X_MinMax = (X - X.min(axis = 0)) / (X.max(axis = 0) - X.min(axis = 0))\r\n",
        "\r\n",
        "# (2) MinMaxScaler 이용\r\n",
        "x_minMaxScaler = MinMaxScaler().fit_transform(X)\r\n",
        "x_minMaxScaler\r\n",
        "\r\n",
        "# (3) minmax_scale 이용\r\n",
        "X_MinMax_scaled = minmax_scale(X, axis = 0, copy = True)\r\n",
        "X_MinMax_scaled"
      ],
      "execution_count": null,
      "outputs": [
        {
          "output_type": "execute_result",
          "data": {
            "text/plain": [
              "array([[1. , 0. , 0. ],\n",
              "       [0.5, 0.5, 0.5],\n",
              "       [0. , 1. , 1. ]])"
            ]
          },
          "metadata": {
            "tags": []
          },
          "execution_count": 62
        }
      ]
    },
    {
      "cell_type": "markdown",
      "metadata": {
        "id": "uAjW0wobrRCx"
      },
      "source": [
        "### 이항변수화 변환(feature binarization)\r\n",
        "- 성공확률이 p인 베르누이 시행을 n번 반복했을 때 성공하는 횟수를 X라 하면, 확률 변수 X는 모수 n과 p인 이항분포를 따른다고 함\r\n",
        "- sklearn.preprocessing.Binarizer() 함수를 이용해서 특정 임계값을 기준으로 0,1로 변환"
      ]
    },
    {
      "cell_type": "code",
      "metadata": {
        "id": "F3nmG_sGs9_T"
      },
      "source": [
        "from sklearn.preprocessing import Binarizer, binarize\r\n",
        "np.random.seed(42)\r\n",
        "x = np.array(np.random.randn(12).reshape(4, 3))\r\n",
        "\r\n",
        "# (1) Binarizer()를 이용한 이항변수화\r\n",
        "binarizer = Binarizer().fit(x.reshape(-1, 1))\r\n",
        "binarizer.transform(x)\r\n",
        "\r\n",
        "# threshold --> 2.0 으로 변환\r\n",
        "binarizer = Binarizer(threshold = 2.0).fit(x.reshape(-1, 1))\r\n",
        "binarizer.transform(x)\r\n",
        "\r\n",
        "# (2) sklearn.preprocessing.binarize() 를 이용한 이항변수화\r\n",
        "# --> trasform 함수가 없음\r\n",
        "binarize(X)\r\n",
        "binarize(X, threshold = 2.0)\r\n",
        "binarize(X, threshold = 2.0, copy = False) # 원본 값 자체가 이항변수화됨"
      ],
      "execution_count": null,
      "outputs": []
    },
    {
      "cell_type": "markdown",
      "metadata": {
        "id": "dF9_earwzFbj"
      },
      "source": [
        "### 범주형 변수 oneHotEcoding"
      ]
    },
    {
      "cell_type": "code",
      "metadata": {
        "colab": {
          "base_uri": "https://localhost:8080/"
        },
        "id": "CtAFHDvxzIJl",
        "outputId": "49f4fa11-c202-45e8-c2b8-ddf0007e58a6"
      },
      "source": [
        "from sklearn.preprocessing import OneHotEncoder\r\n",
        "import numpy as np\r\n",
        "data = np.array([[0, 0, 0], [0, 1, 1], [0, 2, 2], [1, 0, 3], [1, 1, 4]])\r\n",
        "enc = OneHotEncoder()\r\n",
        "enc.fit(data)\r\n",
        "enc.transform(np.array([[1, 2, 4]])).toarray()"
      ],
      "execution_count": null,
      "outputs": [
        {
          "output_type": "execute_result",
          "data": {
            "text/plain": [
              "array([[0., 1., 0., 0., 1., 0., 0., 0., 0., 1.]])"
            ]
          },
          "metadata": {
            "tags": []
          },
          "execution_count": 93
        }
      ]
    }
  ]
}