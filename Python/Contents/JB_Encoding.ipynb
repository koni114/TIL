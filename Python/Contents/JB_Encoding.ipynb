{
 "cells": [
  {
   "cell_type": "markdown",
   "metadata": {
    "id": "Fn0MgX4G2YjC"
   },
   "source": [
    "### 이항변수화 변환(feature binarization)\n",
    "- 성공확률이 p인 베르누이 시행을 n번 반복했을 때 성공하는 횟수를 X라 하면, 확률 변수 X는 모수 n과 p인 이항분포를 따른다고 함\n",
    "- sklearn.preprocessing.Binarizer() 함수를 이용해서 특정 임계값을 기준으로 0,1로 변환\n"
   ]
  },
  {
   "cell_type": "code",
   "execution_count": 3,
   "metadata": {
    "colab": {
     "base_uri": "https://localhost:8080/"
    },
    "id": "b07k7aJz2fHy",
    "outputId": "74653648-8022-4b72-8ef6-6c76722b9e70"
   },
   "outputs": [
    {
     "data": {
      "text/plain": [
       "array([[0., 0., 0.],\n",
       "       [0., 0., 0.],\n",
       "       [0., 0., 0.],\n",
       "       [0., 0., 0.]])"
      ]
     },
     "execution_count": 3,
     "metadata": {},
     "output_type": "execute_result"
    }
   ],
   "source": [
    "from sklearn.preprocessing import Binarizer, binarize\n",
    "import numpy as np\n",
    "\n",
    "np.random.seed(42)\n",
    "x = np.array(np.random.randn(12).reshape(4, 3))\n",
    "\n",
    "# (1) Binarizer()를 이용한 이항변수화\n",
    "binarizer = Binarizer().fit(x.reshape(-1, 1))\n",
    "binarizer.transform(x.reshape(-1, 1))\n",
    "\n",
    "# threshold --> 2.0 으로 변환\n",
    "binarizer = Binarizer(threshold = 2.0).fit(x.reshape(-1, 1))\n",
    "binarizer.transform(x.reshape(-1, 1))\n",
    "\n",
    "# (2) sklearn.preprocessing.binarize() 를 이용한 이항변수화\n",
    "# --> trasform 함수가 없음\n",
    "binarize(x)\n",
    "binarize(x, threshold = 2.0)\n",
    "binarize(x, threshold = 2.0, copy = False) # 원본 값 자체가 이항변수화됨"
   ]
  },
  {
   "cell_type": "markdown",
   "metadata": {
    "id": "mciekkGM2gGX"
   },
   "source": [
    "### 범주형 변수 oneHotEcoding"
   ]
  },
  {
   "cell_type": "code",
   "execution_count": 6,
   "metadata": {
    "colab": {
     "base_uri": "https://localhost:8080/"
    },
    "id": "Rfmdlqac2iuu",
    "outputId": "1573f502-4dee-48c7-d23b-eaf0eb6d6620"
   },
   "outputs": [
    {
     "data": {
      "text/plain": [
       "OneHotEncoder()"
      ]
     },
     "execution_count": 6,
     "metadata": {},
     "output_type": "execute_result"
    }
   ],
   "source": [
    "from sklearn.preprocessing import OneHotEncoder\n",
    "import numpy as np\n",
    "data = np.array([[0, 0, 0], [0, 1, 1], [0, 2, 2], [1, 0, 3], [1, 1, 4]])\n",
    "enc = OneHotEncoder()\n",
    "enc.fit(data)"
   ]
  },
  {
   "cell_type": "code",
   "execution_count": 8,
   "metadata": {},
   "outputs": [
    {
     "data": {
      "text/plain": [
       "[array([0, 1]), array([0, 1, 2]), array([0, 1, 2, 3, 4])]"
      ]
     },
     "execution_count": 8,
     "metadata": {},
     "output_type": "execute_result"
    }
   ],
   "source": [
    "# OneHot encoding의 각 컬럼별 범주 확인\n",
    "#- 성별 2개 범주\n",
    "#- 연령대 3개 범주\n",
    "#- 등급 5개 범주\n",
    "enc.categories_"
   ]
  },
  {
   "cell_type": "code",
   "execution_count": 9,
   "metadata": {},
   "outputs": [
    {
     "data": {
      "text/plain": [
       "array([[0., 1., 0., 0., 1., 0., 0., 0., 0., 1.]])"
      ]
     },
     "execution_count": 9,
     "metadata": {},
     "output_type": "execute_result"
    }
   ],
   "source": [
    "enc.transform(np.array([[1, 2, 4]])).toarray()"
   ]
  },
  {
   "cell_type": "markdown",
   "metadata": {
    "id": "Nqg2cIrB2j9e"
   },
   "source": [
    "### 연속형 변수의 이산형화 \n",
    "- 이산형화는 2개 이상의 범주(category)를 가지는 변수로 변환하는 것을 말함\n",
    "  - np.digitize(data, bins)\n",
    "  - pd.get_dummies()\n",
    "  - np.where()"
   ]
  },
  {
   "cell_type": "code",
   "execution_count": null,
   "metadata": {
    "colab": {
     "base_uri": "https://localhost:8080/"
    },
    "id": "JoxUjpQG4PKC",
    "outputId": "18078da2-f24b-4f2d-9c17-67a4a5839f1c"
   },
   "outputs": [
    {
     "data": {
      "text/plain": [
       "array(['high', 'high', 'low', 'low', 'high', 'low', 'high', 'low', 'low',\n",
       "       'low', 'high', 'high', 'low', 'high', 'high', 'high', 'low',\n",
       "       'high', 'high', 'low'], dtype='<U4')"
      ]
     },
     "execution_count": 12,
     "metadata": {
      "tags": []
     },
     "output_type": "execute_result"
    }
   ],
   "source": [
    "import numpy as np\n",
    "import pandas as pd\n",
    "from pandas import DataFrame\n",
    "np.random.seed(10)\n",
    "df = DataFrame({\n",
    "  'C1': np.random.randn(20),\n",
    "  'C2': ['a', 'a', 'a', 'a', 'a', 'a', 'a', 'a', 'a', 'a', 'b', 'b', 'b', 'b', 'b', 'b', 'b', 'b', 'b', 'b']})\n",
    "\n",
    "# (1) np.digitize function을 이용한 연속형 변수의 이산형화\n",
    "bins = np.linspace(np.min(df['C1']), np.max(df['C1']), 10)\n",
    "df['C1_bin'] = np.digitize(df['C1'], bins)\n",
    "\n",
    "# 이산형화 시킨 변수의 활용\n",
    "# - 이산형 데이터별 요약통계량 계산\n",
    "df.groupby('C1_bin')['C1'].size()\n",
    "df.groupby('C1_bin')['C1'].mean()\n",
    "df.groupby('C1_bin')['C1'].std()\n",
    "df.groupby('C1_bin')['C2'].value_counts()\n",
    "\n",
    "# (2) pd.get_dummies()를 이용해 가변수(dummy var) 만들기\n",
    "# - prefix     : add prefix\n",
    "# - drop_first : avoid dummy trap \n",
    "pd.get_dummies(df['C1_bin'], prefix = 'C1')\n",
    "pd.get_dummies(df['C1_bin'], prefix = 'C1', drop_first= True)\n",
    "\n",
    "# (3) np.where 를 이용한 연속형 변수의 이산형화\n",
    "# - 좀 더 복잡한 로직을 처리할 수 있게 해줌\n",
    "df['high_low'] = np.where(df['C1'] >= df['C1'].mean(), 'high', 'low')"
   ]
  }
 ],
 "metadata": {
  "colab": {
   "collapsed_sections": [],
   "name": "JB_Encoding.ipynb",
   "provenance": []
  },
  "kernelspec": {
   "display_name": "Python 3",
   "language": "python",
   "name": "python3"
  },
  "language_info": {
   "codemirror_mode": {
    "name": "ipython",
    "version": 3
   },
   "file_extension": ".py",
   "mimetype": "text/x-python",
   "name": "python",
   "nbconvert_exporter": "python",
   "pygments_lexer": "ipython3",
   "version": "3.7.7"
  }
 },
 "nbformat": 4,
 "nbformat_minor": 1
}
