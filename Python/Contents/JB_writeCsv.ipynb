{
  "nbformat": 4,
  "nbformat_minor": 0,
  "metadata": {
    "colab": {
      "name": "JB_writeCsv.ipynb",
      "provenance": [],
      "collapsed_sections": []
    },
    "kernelspec": {
      "name": "python3",
      "display_name": "Python 3"
    }
  },
  "cells": [
    {
      "cell_type": "markdown",
      "metadata": {
        "id": "gj_ngUa5ixDo"
      },
      "source": [
        "### DataFrame을 pandas로 내보내는 방법 : to_csv "
      ]
    },
    {
      "cell_type": "code",
      "metadata": {
        "colab": {
          "base_uri": "https://localhost:8080/",
          "height": 195
        },
        "id": "51oxOZBxi30Q",
        "outputId": "3fce3187-9c2b-42ec-a73a-50b47f7e7b60"
      },
      "source": [
        "import pandas as pd\r\n",
        "data = {'ID': ['A1', 'A2', 'A3', 'A4', 'A5'], 'X1':[1, 2, 3, 4, 5], 'X2':[1, 2, 3, 4, 5]}\r\n",
        "data_df = pd.DataFrame(data, index = ['a', 'b', 'c', 'd', 'e'])\r\n",
        "\r\n",
        "data_df"
      ],
      "execution_count": 2,
      "outputs": [
        {
          "output_type": "execute_result",
          "data": {
            "text/html": [
              "<div>\n",
              "<style scoped>\n",
              "    .dataframe tbody tr th:only-of-type {\n",
              "        vertical-align: middle;\n",
              "    }\n",
              "\n",
              "    .dataframe tbody tr th {\n",
              "        vertical-align: top;\n",
              "    }\n",
              "\n",
              "    .dataframe thead th {\n",
              "        text-align: right;\n",
              "    }\n",
              "</style>\n",
              "<table border=\"1\" class=\"dataframe\">\n",
              "  <thead>\n",
              "    <tr style=\"text-align: right;\">\n",
              "      <th></th>\n",
              "      <th>ID</th>\n",
              "      <th>X1</th>\n",
              "      <th>X2</th>\n",
              "    </tr>\n",
              "  </thead>\n",
              "  <tbody>\n",
              "    <tr>\n",
              "      <th>a</th>\n",
              "      <td>A1</td>\n",
              "      <td>1</td>\n",
              "      <td>1</td>\n",
              "    </tr>\n",
              "    <tr>\n",
              "      <th>b</th>\n",
              "      <td>A2</td>\n",
              "      <td>2</td>\n",
              "      <td>2</td>\n",
              "    </tr>\n",
              "    <tr>\n",
              "      <th>c</th>\n",
              "      <td>A3</td>\n",
              "      <td>3</td>\n",
              "      <td>3</td>\n",
              "    </tr>\n",
              "    <tr>\n",
              "      <th>d</th>\n",
              "      <td>A4</td>\n",
              "      <td>4</td>\n",
              "      <td>4</td>\n",
              "    </tr>\n",
              "    <tr>\n",
              "      <th>e</th>\n",
              "      <td>A5</td>\n",
              "      <td>5</td>\n",
              "      <td>5</td>\n",
              "    </tr>\n",
              "  </tbody>\n",
              "</table>\n",
              "</div>"
            ],
            "text/plain": [
              "   ID  X1  X2\n",
              "a  A1   1   1\n",
              "b  A2   2   2\n",
              "c  A3   3   3\n",
              "d  A4   4   4\n",
              "e  A5   5   5"
            ]
          },
          "metadata": {
            "tags": []
          },
          "execution_count": 2
        }
      ]
    },
    {
      "cell_type": "markdown",
      "metadata": {
        "id": "FPA0FbAfjSda"
      },
      "source": [
        "- 만약 DataFrame에 결측값이 있다면, na_rep paramter로 지정해 주어야 함"
      ]
    },
    {
      "cell_type": "code",
      "metadata": {
        "id": "JlAw2HnJjmP6"
      },
      "source": [
        "data_df.to_csv(\"./df.csv\", sep = \",\", na_rep = 'NaN')"
      ],
      "execution_count": 4,
      "outputs": []
    },
    {
      "cell_type": "markdown",
      "metadata": {
        "id": "HfAfWbNWkCb-"
      },
      "source": [
        "### to_csv parameter 정보\r\n",
        "- header = True (첫번째 줄을 칼럼 이름으로 사용)\r\n",
        "- columns = 특정 칼럼만 csv 로 쓰기 (내보내기) 할 때 칼럼 이름을 list에 적어줌\r\n",
        "- index = True (행의 이름 index 도 같이 내보냄. index 내보내기 싫으면 False 명기)\r\n",
        "- float_format = '%.2f' (예: float8 을 소수점 둘째 자리까지 표기)\r\n",
        "- encoding = 'utf-8' (on Python 3)\r\n",
        "- line_terminator = '\\n' (엔터로 줄 바꿈)\r\n",
        "- date_format = None (datetime 객체에 대한 format 설정하지 않음)"
      ]
    },
    {
      "cell_type": "code",
      "metadata": {
        "id": "b9R7fZD5knce"
      },
      "source": [
        ""
      ],
      "execution_count": null,
      "outputs": []
    }
  ]
}