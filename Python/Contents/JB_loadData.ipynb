{
 "cells": [
  {
   "cell_type": "code",
   "execution_count": 2,
   "metadata": {
    "id": "0BN_33Z5TxSI"
   },
   "outputs": [],
   "source": [
    "import pandas as pd\n",
    "df = pd.read_csv(\"./sample_data/train.csv\")"
   ]
  },
  {
   "cell_type": "markdown",
   "metadata": {
    "id": "1c1C5ta4U41H"
   },
   "source": [
    "#### txt file에서 `|`를 구분자로 loading 하는 경우"
   ]
  },
  {
   "cell_type": "code",
   "execution_count": 2,
   "metadata": {
    "id": "8fK4bxnhT7yg"
   },
   "outputs": [],
   "source": [
    "df2 = pd.read_csv(\"./sample_data/test.txt\", sep = \"|\") "
   ]
  },
  {
   "cell_type": "markdown",
   "metadata": {
    "id": "ZBY2xUSXVcgW"
   },
   "source": [
    "### 파일 불러올 때 index 지정해주기 : index_col"
   ]
  },
  {
   "cell_type": "code",
   "execution_count": null,
   "metadata": {
    "id": "_bhk1vmyT8j_"
   },
   "outputs": [],
   "source": [
    "df2 = pd.read_csv(\"./sample_data/test.txt\", sep = \"|\", index_col = 0)"
   ]
  },
  {
   "cell_type": "markdown",
   "metadata": {
    "id": "HYqNzQhWV-2X"
   },
   "source": [
    "### column header가 없는 파일 불러올 때 이름 부여하기"
   ]
  },
  {
   "cell_type": "code",
   "execution_count": null,
   "metadata": {
    "id": "6yd-zECPWDJL"
   },
   "outputs": [],
   "source": [
    "df3 = pd.read_csv(\"./sample_data/test.txt\",sep = \"|\", names = ['ID', 'A', 'B', 'C'], header = None, index_col = 'ID')"
   ]
  },
  {
   "cell_type": "markdown",
   "metadata": {
    "id": "s9WGGgioWTNh"
   },
   "source": [
    "### 유니코드 디코드 에러 발생, UnicodeDecodeError: 'utf-8' codec can't decode byte"
   ]
  },
  {
   "cell_type": "code",
   "execution_count": null,
   "metadata": {
    "id": "2DRPFEWgWeup"
   },
   "outputs": [],
   "source": [
    "pd.read_csv(\"./sample_data/test.txt\", encoding = \"CP949\")"
   ]
  },
  {
   "cell_type": "markdown",
   "metadata": {
    "id": "crPbQrXVX2t_"
   },
   "source": [
    "### 특정 줄은 제외하고 불러오기 : skiprows = [x, x]"
   ]
  },
  {
   "cell_type": "code",
   "execution_count": null,
   "metadata": {
    "id": "y8SKGilDX86E"
   },
   "outputs": [],
   "source": [
    "df2 = pd.read_csv(\"./sample_data/train.csv\", skiprows = [1, 2]) "
   ]
  },
  {
   "cell_type": "markdown",
   "metadata": {
    "id": "lDTm3OHOYfED"
   },
   "source": [
    "### n개의 행만 불러오기. nrow = n"
   ]
  },
  {
   "cell_type": "code",
   "execution_count": null,
   "metadata": {
    "id": "xY7bG806Yg-v"
   },
   "outputs": [],
   "source": [
    "df3 = pd.read_csv(\"./sample_data/train.csv\", nrow = 3)"
   ]
  },
  {
   "cell_type": "markdown",
   "metadata": {
    "id": "W84LAqKzYq-7"
   },
   "source": [
    "### 사용자 정의 결측값 기호 : na_values = [??]"
   ]
  },
  {
   "cell_type": "code",
   "execution_count": null,
   "metadata": {
    "id": "p1_VZMpQYzGr"
   },
   "outputs": [],
   "source": [
    "df3 = pd.read_csv(\"./sample_data/train.csv\", na_values = [\"??\", \"?\", \"NA\", \"nan\"])"
   ]
  },
  {
   "cell_type": "markdown",
   "metadata": {
    "id": "2DdB74A1Y8q4"
   },
   "source": [
    "### 데이터 유형 설정 : dtype 옵션\n",
    "- 날짜 형태의 경우, infer_datetime_format, keep_date_col, date_parser, dayfirst, cache_dates 등의 시계열 데이터 형태에 특화된 옵션이 있음"
   ]
  },
  {
   "cell_type": "code",
   "execution_count": null,
   "metadata": {
    "id": "tPPfQi1nZKBi"
   },
   "outputs": [],
   "source": [
    "df3 = pd.read_csv(\"./sample_data/train.csv\", dtype = {'ID':int, \"LAST_NAME\":str})"
   ]
  }
 ],
 "metadata": {
  "colab": {
   "collapsed_sections": [],
   "name": "JB_loadData.ipynb",
   "provenance": []
  },
  "kernelspec": {
   "display_name": "Python 3",
   "language": "python",
   "name": "python3"
  },
  "language_info": {
   "codemirror_mode": {
    "name": "ipython",
    "version": 3
   },
   "file_extension": ".py",
   "mimetype": "text/x-python",
   "name": "python",
   "nbconvert_exporter": "python",
   "pygments_lexer": "ipython3",
   "version": "3.7.7"
  }
 },
 "nbformat": 4,
 "nbformat_minor": 1
}
