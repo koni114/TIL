{
 "cells": [
  {
   "cell_type": "markdown",
   "metadata": {
    "id": "jkv6_JuUDt8r"
   },
   "source": [
    "### 다항차수 변환, 교호작용 변수 생성\n",
    "- `sklearn.preprocessing.PolynomialFeatures` function을 활용한 다항차수 변환 및 교호작용 생성\n",
    "- 다항 차수를 생성해서 비선형 관계를 표현하거나, 변수간 곱을 사용해서 교호작용 효과를 나타낼 수 있는 변수를 만듬"
   ]
  },
  {
   "cell_type": "code",
   "execution_count": null,
   "metadata": {
    "colab": {
     "base_uri": "https://localhost:8080/"
    },
    "id": "jDmKECMYD3Gu",
    "outputId": "555b9011-90b8-4b87-b7d9-b246ae166dad"
   },
   "outputs": [
    {
     "data": {
      "text/plain": [
       "array([[  1.,   0.,   1.,   2.,   0.,   0.,   2.,   0.],\n",
       "       [  1.,   3.,   4.,   5.,  12.,  15.,  20.,  60.],\n",
       "       [  1.,   6.,   7.,   8.,  42.,  48.,  56., 336.]])"
      ]
     },
     "execution_count": 10,
     "metadata": {
      "tags": []
     },
     "output_type": "execute_result"
    }
   ],
   "source": [
    "import numpy as np\n",
    "import pandas as pd\n",
    "from sklearn.preprocessing import PolynomialFeatures\n",
    "X = np.arange(6).reshape(3, 2)\n",
    "\n",
    "# (1) sklearn.preprocessing.PolynomialFeatures \n",
    "# transform from (x1, x2) to (1, x1, x2, x1^2, x1*x2, x2^2)\n",
    "poly = PolynomialFeatures(degree = 2)\n",
    "poly.fit_transform(X)\n",
    "\n",
    "# transform from (x1, x2, x3) to (1, x1, x2, x3, x1^2, x1*x2, x1*x3, x2^2, x2*x3, x3^2)\n",
    "X = np.arange(9).reshape(3, 3)\n",
    "poly.fit_transform(X)\n",
    "\n",
    "# (2) 교호작용 변수만을 만들기 : interaction_only = True\n",
    "# transform from (x1, x2, x3) to (1, x1, x2, x3, x1*x2, x1*x3, x2*x3)\n",
    "poly_itrOnly = PolynomialFeatures(degree = 2, interaction_only = True)  \n",
    "poly_itrOnly.fit_transform(X)\n",
    "\n",
    "# transform from (x1, x2, x3) to (1, x1, x2, x3, x1*x2, x1*x3, x2*x3, x1*x2*x3)\n",
    "poly_itrOnly = PolynomialFeatures(degree = 3, interaction_only = True)  \n",
    "poly_itrOnly.fit_transform(X)"
   ]
  }
 ],
 "metadata": {
  "colab": {
   "collapsed_sections": [],
   "name": "JB_Interaction.ipynb",
   "provenance": []
  },
  "kernelspec": {
   "display_name": "Python 3",
   "language": "python",
   "name": "python3"
  },
  "language_info": {
   "codemirror_mode": {
    "name": "ipython",
    "version": 3
   },
   "file_extension": ".py",
   "mimetype": "text/x-python",
   "name": "python",
   "nbconvert_exporter": "python",
   "pygments_lexer": "ipython3",
   "version": "3.7.7"
  }
 },
 "nbformat": 4,
 "nbformat_minor": 1
}
