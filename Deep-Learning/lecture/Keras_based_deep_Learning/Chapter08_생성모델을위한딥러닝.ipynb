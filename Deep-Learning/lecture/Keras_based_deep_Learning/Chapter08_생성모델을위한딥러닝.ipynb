{
 "cells": [
  {
   "cell_type": "code",
   "execution_count": 5,
   "metadata": {},
   "outputs": [],
   "source": [
    "# VAE 인코더 네트워크\n",
    "# 이미지를 잠재 공간상 확률 분포 파라미터로 매핑하는 인코더 네트워크.\n",
    "# 입력 이미지 x를 z_mean, z_log_va 로 매핑하는 간단한 컨브넷.\n",
    "\n",
    "import keras\n",
    "from keras import layers\n",
    "from keras import backend as K\n",
    "from keras.models import Model\n",
    "import numpy as np\n",
    "\n",
    "img_shape  = (28, 28, 1)\n",
    "batch_size = 16\n",
    "latent_dim = 2  # 잠재 공간의 차원: 2D 평면\n",
    "\n",
    "input_img  = keras.Input(shape = img_shape)\n",
    "\n",
    "x = layers.Conv2D(32, 3, padding = 'same', activation = 'relu')(input_img)\n",
    "x = layers.Conv2D(64, 3, padding = 'same', activation = 'relu', strides = (2, 2))(x)\n",
    "x = layers.Conv2D(64, 3, padding = 'same', activation = 'relu')(x)\n",
    "x = layers.Conv2D(64, 3, padding = 'same', activation = 'relu')(x)\n",
    "\n",
    "shape_before_flattening = K.int_shape(x)\n",
    "\n",
    "x = layers.Flatten()(x)\n",
    "x = layers.Dense(32, activation = 'relu')(x)\n",
    "\n",
    "# Q. 결국 2개의 파라미터로 인코딩 됨.?\n",
    "#    그냥 Dense layer에 넣으면 자동으로 인코딩이 된다는 것인가.\n",
    "\n",
    "z_mean    = layers.Dense(latent_dim)(x)\n",
    "z_log_var = layers.Dense(latent_dim)(x)"
   ]
  },
  {
   "cell_type": "code",
   "execution_count": 8,
   "metadata": {},
   "outputs": [
    {
     "name": "stderr",
     "output_type": "stream",
     "text": [
      "W0730 00:21:35.172613  9404 deprecation_wrapper.py:119] From C:\\Users\\koni1\\Anaconda3\\lib\\site-packages\\keras\\backend\\tensorflow_backend.py:4115: The name tf.random_normal is deprecated. Please use tf.random.normal instead.\n",
      "\n"
     ]
    }
   ],
   "source": [
    "# z_mean, z_log_var을 사용하는 코드.\n",
    "# 이 두 파라미터가 input_img를 생성한 통계 분포의 파라미터라 가정하고 잠재 공간 포인트 z를 생성.\n",
    "# 이때 케라스의 벡엔드 기능으로 만든 일련의 코드를 Lambda 층으로 감쌈.\n",
    "# 케라스는 모든 것이 층이므로, 기본 층을 사용하지 않는 코드는 lambda로 감싸야 함.\n",
    "\n",
    "def sampling(args):\n",
    "    z_mean, z_log_var = args\n",
    "    epsilon = K.random_normal(shape = (K.shape(z_mean)[0], latent_dim), mean = 0., stddev = 1.)\n",
    "    return z_mean + K.exp(0.5 * z_log_var) * epsilon\n",
    "\n",
    "z = layers.Lambda(sampling)([z_mean, z_log_var])"
   ]
  },
  {
   "cell_type": "code",
   "execution_count": 9,
   "metadata": {},
   "outputs": [],
   "source": [
    "# 디코더 구현,\n",
    "# 벡터 z를 이전 특성 맵 차원으로 크기를 바꾸고, 몇 개의 합성곱 층을 사용하여 최종 출력 이미지를 만듬.\n",
    "# 최종 이미지는 원본 input_img와 차원이 같음.\n",
    "\n",
    "# int_shape() : 텐서의 크기를 파이썬 튜플로 변환하는 함수\n",
    "decoder_input = layers.Input(K.int_shape(z)[1:]) \n",
    "\n",
    "# 마지막 합성곱 층에서 구한 특성 맵의 크기인 shape_before_flattening은 (None, 14, 14, 64) 임\n",
    "# 이 크기를 복원해야 하므로, 업샘플링하는 Dense층의 크기는 14 x 14 x 64 = 12,544가 됨. \n",
    "x = layers.Dense(np.prod(shape_before_flattening[1:]), activation = 'relu')(decoder_input) # 입력을 업샘플링.\n",
    "\n",
    "# 인코더 모델의 마지막 flatten 층 직전의 특성 맵과 같은 크기를 가진 특성 맵으로 z의 크기를 바꿈.\n",
    "x = layers.Reshape(shape_before_flattening[1:])(x)\n",
    "\n",
    "# Conv2DTranspose 층과 Conv2D 층을 사용하여 z를 원본 입력 이미지와 같은 크기의 특성 맵으로 디코딩함.\n",
    "# ** Conv2DTranspose\n",
    "#    입력 값 사이에 0을 추가하여 출력을 업샘플링하는 전치 합성곱(transpose convolution)을 수행.\n",
    "#    전치 합성곱에서 (14, 14, 64) 크기의 입력이 (28, 28, 32) 크기로 업샘플링 됨. \n",
    "#    이따금 전치 합성곱을 역합성곱으로도 부름. \n",
    "x = layers.Conv2DTranspose(32, 3, padding    = 'same',\n",
    "                                  activation = 'relu',\n",
    "                                  strides = (2, 2))(x)\n",
    "\n",
    "x         = layers.Conv2D(1, 3, padding = 'same', activation  = 'sigmoid')(x) \n",
    "decoder   = Model(decoder_input, x) # decoder_input을 디코딩된 이미지로 변환하는 디코더 모델의 객체를 만듬.\n",
    "z_decoded = decoder(z)"
   ]
  },
  {
   "cell_type": "code",
   "execution_count": 15,
   "metadata": {
    "collapsed": true
   },
   "outputs": [
    {
     "ename": "NameError",
     "evalue": "name 'z_decoded' is not defined",
     "output_type": "error",
     "traceback": [
      "\u001b[1;31m---------------------------------------------------------------------------\u001b[0m",
      "\u001b[1;31mNameError\u001b[0m                                 Traceback (most recent call last)",
      "\u001b[1;32m<ipython-input-15-4696c32986f9>\u001b[0m in \u001b[0;36m<module>\u001b[1;34m\u001b[0m\n\u001b[0;32m     22\u001b[0m         \u001b[1;32mreturn\u001b[0m \u001b[0mx\u001b[0m \u001b[1;31m# 이 층을 사용하진 않지만, 무엇가를 반환해야함.\u001b[0m\u001b[1;33m\u001b[0m\u001b[1;33m\u001b[0m\u001b[0m\n\u001b[0;32m     23\u001b[0m \u001b[1;33m\u001b[0m\u001b[0m\n\u001b[1;32m---> 24\u001b[1;33m \u001b[0my\u001b[0m \u001b[1;33m=\u001b[0m \u001b[0mCustomVariationalLayer\u001b[0m\u001b[1;33m(\u001b[0m\u001b[1;33m)\u001b[0m\u001b[1;33m(\u001b[0m\u001b[1;33m[\u001b[0m\u001b[0minput_img\u001b[0m\u001b[1;33m,\u001b[0m \u001b[0mz_decoded\u001b[0m\u001b[1;33m]\u001b[0m\u001b[1;33m)\u001b[0m\u001b[1;33m\u001b[0m\u001b[1;33m\u001b[0m\u001b[0m\n\u001b[0m",
      "\u001b[1;31mNameError\u001b[0m: name 'z_decoded' is not defined"
     ]
    }
   ],
   "source": [
    "# 일반적인 샘플 기준의 함수인 loss(y_true, y_pred) 형태는 VAE 이중 손실에 맞지 않음.\n",
    "# add_loss 내장 메서드를 사용하는 층을 직접 만들어 임의의 손실을 정의\n",
    "# Layer 클래스의 add_loss() 메서드를 사용하여 추가된 손실은 vae.losses 파이썬 리스트에서 확인할 수 있음.\n",
    "# k1_loss 계산식의 상수 값이 원래 0.5이지만 여기서는 규제 손실의 양을 조절하기 위해 0.00005가 사용됨.\n",
    "\n",
    "class CustomVariationalLayer(keras.layers.Layer):\n",
    "    \n",
    "    def vae_loss(self, x, z_decoded):\n",
    "        # x : 원본 `\n",
    "        # z_decoded : 만들어진 놈. \n",
    "        x         = K.flatten(x)\n",
    "        z_decoded = K.flatten(z_decoded)\n",
    "        xent_loss = keras.metrics.binary_crossentropy(x, z_decoded) # 재구성 손실 \n",
    "        kl_loss   = -5e-4 * K.mean(1 + z_log_var - K.square(z_mean) - K.exp(z_log_var), axis = -1)\n",
    "        return K.mean(xent_loss + kl_loss)\n",
    "\n",
    "    def call(self, inputs): # call 메서드가 있는 층을 구성\n",
    "        x         = inputs[0]\n",
    "        z_decoded = inputs[1]\n",
    "        loss      = self.vae_loss(x, z_decoded)\n",
    "        self.add_loss(loss, inputs=inputs)\n",
    "        return x # 이 층을 사용하진 않지만, 무엇가를 반환해야함.\n",
    "\n",
    "y = CustomVariationalLayer()([input_img, z_decoded])"
   ]
  },
  {
   "cell_type": "code",
   "execution_count": 17,
   "metadata": {
    "collapsed": true
   },
   "outputs": [
    {
     "ename": "NameError",
     "evalue": "name 'vae' is not defined",
     "output_type": "error",
     "traceback": [
      "\u001b[1;31m---------------------------------------------------------------------------\u001b[0m",
      "\u001b[1;31mNameError\u001b[0m                                 Traceback (most recent call last)",
      "\u001b[1;32m<ipython-input-17-8c8f68e52fa9>\u001b[0m in \u001b[0;36m<module>\u001b[1;34m\u001b[0m\n\u001b[0;32m     17\u001b[0m \u001b[0mx_test\u001b[0m  \u001b[1;33m=\u001b[0m \u001b[0mx_test\u001b[0m\u001b[1;33m.\u001b[0m\u001b[0mreshape\u001b[0m\u001b[1;33m(\u001b[0m\u001b[0mx_test\u001b[0m\u001b[1;33m.\u001b[0m\u001b[0mshape\u001b[0m \u001b[1;33m+\u001b[0m \u001b[1;33m(\u001b[0m\u001b[1;36m1\u001b[0m\u001b[1;33m,\u001b[0m\u001b[1;33m)\u001b[0m\u001b[1;33m)\u001b[0m\u001b[1;33m\u001b[0m\u001b[1;33m\u001b[0m\u001b[0m\n\u001b[0;32m     18\u001b[0m \u001b[1;33m\u001b[0m\u001b[0m\n\u001b[1;32m---> 19\u001b[1;33m vae.fit(x = x_train, y = None, \n\u001b[0m\u001b[0;32m     20\u001b[0m         \u001b[0mshuffle\u001b[0m \u001b[1;33m=\u001b[0m \u001b[1;32mTrue\u001b[0m\u001b[1;33m,\u001b[0m\u001b[1;33m\u001b[0m\u001b[1;33m\u001b[0m\u001b[0m\n\u001b[0;32m     21\u001b[0m         \u001b[0mepochs\u001b[0m  \u001b[1;33m=\u001b[0m \u001b[1;36m10\u001b[0m\u001b[1;33m,\u001b[0m\u001b[1;33m\u001b[0m\u001b[1;33m\u001b[0m\u001b[0m\n",
      "\u001b[1;31mNameError\u001b[0m: name 'vae' is not defined"
     ]
    }
   ],
   "source": [
    "# VAE 훈련하기\n",
    "# 층에서 손실을 직접 다루기 때문에 compile 메서드에서 손실을 직접 지정하지 않음.\n",
    "# 그 결과, 훈련하는 동안 타깃 데이터를 전달하지 않아도 됨.\n",
    "from keras.datasets import mnist\n",
    "from keras import Model\n",
    "\n",
    "# vae = Model(input_img, y) # y는 CustomVariationalLayer() 로 만들어진 층\n",
    "# vae.compile(optimizer = 'rmsprop', loss = None)\n",
    "# vae.summary()\n",
    "\n",
    "(x_train, _), (x_test, y_test) = mnist.load_data()\n",
    "\n",
    "# 왜 + (1, ) 를 했을까?\n",
    "x_train = x_train.astype('float32') / 255.\n",
    "x_train = x_train.reshape(x_train.shape + (1, ))\n",
    "x_test  = x_test.astype('float32')  / 255.\n",
    "x_test  = x_test.reshape(x_test.shape + (1,))\n",
    "\n",
    "# vae\n",
    "vae.fit(x = x_train, y = None, \n",
    "        shuffle = True,\n",
    "        epochs  = 10,\n",
    "        batch_size = batch_size,\n",
    "        validation_data = (x_test, None))"
   ]
  },
  {
   "cell_type": "code",
   "execution_count": 18,
   "metadata": {
    "collapsed": true
   },
   "outputs": [
    {
     "ename": "NameError",
     "evalue": "name 'np' is not defined",
     "output_type": "error",
     "traceback": [
      "\u001b[1;31m---------------------------------------------------------------------------\u001b[0m",
      "\u001b[1;31mNameError\u001b[0m                                 Traceback (most recent call last)",
      "\u001b[1;32m<ipython-input-18-275d6dd0ea13>\u001b[0m in \u001b[0;36m<module>\u001b[1;34m\u001b[0m\n\u001b[0;32m      4\u001b[0m \u001b[0mn\u001b[0m \u001b[1;33m=\u001b[0m \u001b[1;36m15\u001b[0m\u001b[1;33m\u001b[0m\u001b[1;33m\u001b[0m\u001b[0m\n\u001b[0;32m      5\u001b[0m \u001b[0mdigit_size\u001b[0m \u001b[1;33m=\u001b[0m \u001b[1;36m28\u001b[0m\u001b[1;33m\u001b[0m\u001b[1;33m\u001b[0m\u001b[0m\n\u001b[1;32m----> 6\u001b[1;33m \u001b[0mfigure\u001b[0m \u001b[1;33m=\u001b[0m \u001b[0mnp\u001b[0m\u001b[1;33m.\u001b[0m\u001b[0mzeros\u001b[0m\u001b[1;33m(\u001b[0m\u001b[1;33m(\u001b[0m\u001b[0mdigit_size\u001b[0m \u001b[1;33m*\u001b[0m \u001b[0mn\u001b[0m\u001b[1;33m,\u001b[0m \u001b[0mdigit_size\u001b[0m \u001b[1;33m*\u001b[0m \u001b[0mn\u001b[0m\u001b[1;33m)\u001b[0m\u001b[1;33m)\u001b[0m\u001b[1;33m\u001b[0m\u001b[1;33m\u001b[0m\u001b[0m\n\u001b[0m\u001b[0;32m      7\u001b[0m \u001b[0mgrid_x\u001b[0m \u001b[1;33m=\u001b[0m \u001b[0mnorm\u001b[0m\u001b[1;33m.\u001b[0m\u001b[0mppf\u001b[0m\u001b[1;33m(\u001b[0m\u001b[0mnp\u001b[0m\u001b[1;33m.\u001b[0m\u001b[0mlinspace\u001b[0m\u001b[1;33m(\u001b[0m\u001b[1;36m0.05\u001b[0m\u001b[1;33m,\u001b[0m \u001b[1;36m0.95\u001b[0m\u001b[1;33m,\u001b[0m \u001b[0mn\u001b[0m\u001b[1;33m)\u001b[0m\u001b[1;33m)\u001b[0m\u001b[1;33m\u001b[0m\u001b[1;33m\u001b[0m\u001b[0m\n\u001b[0;32m      8\u001b[0m \u001b[0mgrid_y\u001b[0m \u001b[1;33m=\u001b[0m \u001b[0mnorm\u001b[0m\u001b[1;33m.\u001b[0m\u001b[0mppf\u001b[0m\u001b[1;33m(\u001b[0m\u001b[0mnp\u001b[0m\u001b[1;33m.\u001b[0m\u001b[0mlinspace\u001b[0m\u001b[1;33m(\u001b[0m\u001b[1;36m0.05\u001b[0m\u001b[1;33m,\u001b[0m \u001b[1;36m0.95\u001b[0m\u001b[1;33m,\u001b[0m \u001b[0mn\u001b[0m\u001b[1;33m)\u001b[0m\u001b[1;33m)\u001b[0m\u001b[1;33m\u001b[0m\u001b[1;33m\u001b[0m\u001b[0m\n",
      "\u001b[1;31mNameError\u001b[0m: name 'np' is not defined"
     ]
    }
   ],
   "source": [
    "import matplotlib.pyplot as plt\n",
    "from scipy.stats import norm\n",
    "\n",
    "n = 15\n",
    "digit_size = 28\n",
    "figure = np.zeros((digit_size * n, digit_size * n))\n",
    "grid_x = norm.ppf(np.linspace(0.05, 0.95, n))\n",
    "grid_y = norm.ppf(np.linspace(0.05, 0.95, n))\n",
    "\n",
    "for i, yi in enumerate(grid_x):\n",
    "    for j, xi in enumerate(grid_y):\n",
    "        z_sample = np.array([[xi, yi]])\n",
    "        z_sample = np.tile(z_sample, batch_size).reshape(batch_size, 2)\n",
    "        x_decoded = decoder.predict(z_sample, batch_size = batch_size)\n",
    "        \n",
    "        digit = x_decoded[0].reshape(digit_size, digit_size)\n",
    "        figure[i * digit_size: (i + 1) * digit_size,\n",
    "                  j * digit_size: (j + 1) * digit_size] = digit\n",
    "\n",
    "plt.figure(figsize = (10, 10))\n",
    "plt.imshow(figure, cmap = 'Greys_r')\n",
    "plt.show()"
   ]
  }
 ],
 "metadata": {
  "kernelspec": {
   "display_name": "Python 3",
   "language": "python",
   "name": "python3"
  },
  "language_info": {
   "codemirror_mode": {
    "name": "ipython",
    "version": 3
   },
   "file_extension": ".py",
   "mimetype": "text/x-python",
   "name": "python",
   "nbconvert_exporter": "python",
   "pygments_lexer": "ipython3",
   "version": "3.7.1"
  }
 },
 "nbformat": 4,
 "nbformat_minor": 2
}
